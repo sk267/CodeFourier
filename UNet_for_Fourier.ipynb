{
 "cells": [
  {
   "cell_type": "code",
   "execution_count": 146,
   "metadata": {},
   "outputs": [],
   "source": [
    "import tensorflow as tf\n",
    "from tensorflow import keras\n",
    "from tensorflow.keras.layers import  InputLayer, Conv2D, Lambda, Dropout, MaxPooling2D, Conv2DTranspose, concatenate\n",
    "from tensorflow.keras.callbacks import ModelCheckpoint, TensorBoard, EarlyStopping\n",
    "import os\n",
    "import numpy as np\n",
    "from PIL import Image\n",
    "\n",
    "from Helper_Build_UNet_Model import build_unet_model\n",
    "from Helper_Create_Postprocessing_Model import create_postprocessing_model, tf_inv_fourier_trans\n",
    "from Helper_Calc_Mean_Alias_Value_Of_One_Image import calc_mean_alias_value_of_one_image\n",
    "\n",
    "from tqdm import tqdm\n",
    "\n",
    "import matplotlib.pyplot as plt\n",
    "\n",
    "from UNet_Fourier_Facilities import Fourier_Images\n",
    "\n",
    "import time\n"
   ]
  },
  {
   "cell_type": "code",
   "execution_count": 147,
   "metadata": {},
   "outputs": [],
   "source": [
    "model_cnn = tf.keras.models.load_model(\"./cnn_models/single_rgb_image_regression_V02_epochs_100_1653595623\")\n"
   ]
  },
  {
   "cell_type": "code",
   "execution_count": 148,
   "metadata": {},
   "outputs": [],
   "source": [
    "np.random.seed = 42\n",
    "IMG_WIDTH = 128\n",
    "IMG_HEIGHT = 128\n",
    "IMG_CHANNELS = 3\n"
   ]
  },
  {
   "cell_type": "markdown",
   "metadata": {},
   "source": [
    "## Load Images"
   ]
  },
  {
   "cell_type": "code",
   "execution_count": 149,
   "metadata": {},
   "outputs": [],
   "source": [
    "TRAIN_FILMED_PATH = \"D:\\\\Main\\\\MA_PROGR\\\\Data\\\\Train\\\\UNet_Train\\\\model_at_tree_100_pics\\\\filmed\"\n",
    "TRAIN_CLEAN_PATH = \"D:\\\\Main\\\\MA_PROGR\\\\Data\\\\Train\\\\UNet_Train\\\\model_at_tree_100_pics\\\\clean_aligned\"\n",
    "# TEST_PATH = \"./Data/data-science-bowl-2018/stage1_test/\"\n"
   ]
  },
  {
   "cell_type": "code",
   "execution_count": 150,
   "metadata": {},
   "outputs": [],
   "source": [
    "train_filmed_imgs = []\n",
    "train_clean_imgs = []"
   ]
  },
  {
   "cell_type": "code",
   "execution_count": 151,
   "metadata": {},
   "outputs": [],
   "source": [
    "OFFSET = 200\n",
    "abbruch_idx = 30\n",
    "\n",
    "\n",
    "def my_train_filmed_gen():\n",
    "    for i, addr_filmed in enumerate(os.listdir(TRAIN_FILMED_PATH)):\n",
    "        img =  plt.imread(f\"{TRAIN_FILMED_PATH}\\{addr_filmed}\")\n",
    "        yield img[OFFSET:IMG_WIDTH+OFFSET, OFFSET:IMG_HEIGHT+OFFSET, :3]\n",
    "\n",
    "def my_train_clean_gen():\n",
    "    for i, addr_clean in enumerate(os.listdir(TRAIN_CLEAN_PATH)):\n",
    "        img =  plt.imread(f\"{TRAIN_CLEAN_PATH}\\{addr_clean}\")\n",
    "        yield img[OFFSET:IMG_WIDTH+OFFSET, OFFSET:IMG_HEIGHT+OFFSET, :3]\n",
    "\n",
    "\n",
    "train_filmed_img_gen_obj = my_train_filmed_gen()\n",
    "train_clean_img_gen_obj = my_train_clean_gen()"
   ]
  },
  {
   "cell_type": "markdown",
   "metadata": {},
   "source": [
    "## Build U-Net-Model"
   ]
  },
  {
   "cell_type": "code",
   "execution_count": 152,
   "metadata": {},
   "outputs": [],
   "source": [
    "model_u_net = build_unet_model(IMG_WIDTH, IMG_HEIGHT)\n",
    "# model_u_net.summary()\n"
   ]
  },
  {
   "cell_type": "markdown",
   "metadata": {},
   "source": [
    "# Build Postprecessing Model"
   ]
  },
  {
   "cell_type": "code",
   "execution_count": 153,
   "metadata": {},
   "outputs": [],
   "source": [
    "postprocessing_model = create_postprocessing_model()\n",
    "# postprocessing_model.summary()\n"
   ]
  },
  {
   "cell_type": "markdown",
   "metadata": {},
   "source": [
    "## Custom Train loop\n"
   ]
  },
  {
   "cell_type": "code",
   "execution_count": 154,
   "metadata": {},
   "outputs": [
    {
     "name": "stdout",
     "output_type": "stream",
     "text": [
      "Start of epoch 0\n"
     ]
    },
    {
     "name": "stderr",
     "output_type": "stream",
     "text": [
      "training...:   0%|                                   | 0/5 [00:00<?, ?it/s]"
     ]
    },
    {
     "name": "stdout",
     "output_type": "stream",
     "text": [
      "next batch...\n",
      "WARNING:tensorflow:Model was constructed with shape (1, 128, 128) for input KerasTensor(type_spec=TensorSpec(shape=(1, 128, 128), dtype=tf.float32, name='input_104'), name='input_104', description=\"created by layer 'input_104'\"), but it was called on an input with incompatible shape (128, 128).\n",
      "y_pred: \n",
      "tf.Tensor([[0.19138795]], shape=(1, 1), dtype=float32)\n",
      "y_pred: \n",
      "tf.Tensor([[0.29416105]], shape=(1, 1), dtype=float32)\n",
      "y_pred: \n",
      "tf.Tensor([[0.22432667]], shape=(1, 1), dtype=float32)\n",
      "y_pred: \n",
      "tf.Tensor([[0.25593904]], shape=(1, 1), dtype=float32)\n",
      "y_pred: \n",
      "tf.Tensor([[0.21895465]], shape=(1, 1), dtype=float32)\n",
      "np.max(image_processed_rgb)\n",
      "0.5019524\n",
      "------------------------- Speichern hat nicht geklappt, speichere stattdessen numpy array zur Inspektion:\n"
     ]
    },
    {
     "name": "stderr",
     "output_type": "stream",
     "text": [
      "training...:  20%|█████▍                     | 1/5 [00:05<00:22,  5.53s/it]"
     ]
    },
    {
     "name": "stdout",
     "output_type": "stream",
     "text": [
      "--------------- epoch_loss: 0.2189546525478363\n",
      "next batch...\n",
      "y_pred: \n",
      "tf.Tensor([[0.23490831]], shape=(1, 1), dtype=float32)\n",
      "y_pred: \n",
      "tf.Tensor([[0.18402931]], shape=(1, 1), dtype=float32)\n",
      "y_pred: \n",
      "tf.Tensor([[0.23920089]], shape=(1, 1), dtype=float32)\n",
      "y_pred: \n",
      "tf.Tensor([[0.19120124]], shape=(1, 1), dtype=float32)\n",
      "y_pred: \n",
      "tf.Tensor([[0.22102281]], shape=(1, 1), dtype=float32)\n",
      "np.max(image_processed_rgb)\n",
      "0.5022959\n"
     ]
    },
    {
     "name": "stderr",
     "output_type": "stream",
     "text": [
      "training...:  40%|██████████▊                | 2/5 [00:09<00:14,  4.73s/it]"
     ]
    },
    {
     "name": "stdout",
     "output_type": "stream",
     "text": [
      "--------------- epoch_loss: 0.21998873353004456\n",
      "next batch...\n",
      "y_pred: \n",
      "tf.Tensor([[0.19692951]], shape=(1, 1), dtype=float32)\n",
      "y_pred: \n",
      "tf.Tensor([[0.2184589]], shape=(1, 1), dtype=float32)\n",
      "y_pred: \n",
      "tf.Tensor([[0.24246152]], shape=(1, 1), dtype=float32)\n",
      "y_pred: \n",
      "tf.Tensor([[0.2110419]], shape=(1, 1), dtype=float32)\n",
      "y_pred: \n",
      "tf.Tensor([[0.26424176]], shape=(1, 1), dtype=float32)\n",
      "np.max(image_processed_rgb)\n",
      "0.50270176\n"
     ]
    },
    {
     "name": "stderr",
     "output_type": "stream",
     "text": [
      "training...:  60%|████████████████▏          | 3/5 [00:13<00:08,  4.47s/it]"
     ]
    },
    {
     "name": "stdout",
     "output_type": "stream",
     "text": [
      "--------------- epoch_loss: 0.2347397357225418\n",
      "next batch...\n",
      "y_pred: \n",
      "tf.Tensor([[0.19423309]], shape=(1, 1), dtype=float32)\n",
      "y_pred: \n",
      "tf.Tensor([[0.17575033]], shape=(1, 1), dtype=float32)\n",
      "y_pred: \n",
      "tf.Tensor([[0.19834398]], shape=(1, 1), dtype=float32)\n",
      "y_pred: \n",
      "tf.Tensor([[0.17446397]], shape=(1, 1), dtype=float32)\n",
      "y_pred: \n",
      "tf.Tensor([[0.17726532]], shape=(1, 1), dtype=float32)\n",
      "np.max(image_processed_rgb)\n",
      "0.50432664\n"
     ]
    },
    {
     "name": "stderr",
     "output_type": "stream",
     "text": [
      "training...:  80%|█████████████████████▌     | 4/5 [00:18<00:04,  4.39s/it]"
     ]
    },
    {
     "name": "stdout",
     "output_type": "stream",
     "text": [
      "--------------- epoch_loss: 0.22037112712860107\n",
      "next batch...\n",
      "y_pred: \n",
      "tf.Tensor([[0.16631787]], shape=(1, 1), dtype=float32)\n",
      "y_pred: \n",
      "tf.Tensor([[0.15563951]], shape=(1, 1), dtype=float32)\n",
      "y_pred: \n",
      "tf.Tensor([[0.12220771]], shape=(1, 1), dtype=float32)\n",
      "y_pred: \n",
      "tf.Tensor([[0.23468027]], shape=(1, 1), dtype=float32)\n",
      "y_pred: \n",
      "tf.Tensor([[0.1768542]], shape=(1, 1), dtype=float32)\n",
      "np.max(image_processed_rgb)\n",
      "0.5046302\n"
     ]
    },
    {
     "name": "stderr",
     "output_type": "stream",
     "text": [
      "training...: 100%|███████████████████████████| 5/5 [00:22<00:00,  4.45s/it]"
     ]
    },
    {
     "name": "stdout",
     "output_type": "stream",
     "text": [
      "--------------- epoch_loss: 0.2116677314043045\n"
     ]
    },
    {
     "name": "stderr",
     "output_type": "stream",
     "text": [
      "\n"
     ]
    }
   ],
   "source": [
    "# Custom train loop\n",
    "\n",
    "SAFE_RESULTS = True\n",
    "WRITE_PATH = \"D:\\\\Main\\\\MA_PROGR\\\\Data\\\\UNET_Output\\\\Session08\"\n",
    "\n",
    "show_intermediate_pics = False\n",
    "\n",
    "RGB_WEIGHTS = [0.299, 0.587, 0.114]\n",
    "\n",
    "\n",
    "overall_train_loss = []\n",
    "\n",
    "\n",
    "execute_UNet_model = tf.function(model_u_net)\n",
    "execute_cnn_model = tf.function(model_cnn)\n",
    "execute_postprocessing_model = tf.function(postprocessing_model)\n",
    "\n",
    "NUM_EPOCHS = 1\n",
    "batch_size_cnn = 1\n",
    "batch_size_unet = 5\n",
    "\n",
    "\n",
    "optimizer = tf.keras.optimizers.Adam()\n",
    "loss_fn = tf.keras.losses.MeanAbsoluteError()\n",
    "epoch_loss = tf.keras.metrics.MeanAbsoluteError()\n",
    "\n",
    "\n",
    "train_writer = tf.summary.create_file_writer(\"u_net_logs/train/\")\n",
    "test_writer = tf.summary.create_file_writer(\"u_net_logs/test/\")\n",
    "\n",
    "y_true = tf.constant(0, dtype=tf.float16, name=\"y_true\")\n",
    "\n",
    "jump_to_new_epoch = False\n",
    "\n",
    "for epoch in range(NUM_EPOCHS):\n",
    "\n",
    "    print(f\"Start of epoch {epoch}\")\n",
    "    jump_to_new_epoch = False\n",
    "\n",
    "    # Mache neue Generater, sodass wieder durch alle Bilder durchgegange wird für die nächste Epoche:\n",
    "    train_filmed_img_gen_obj = my_train_filmed_gen()\n",
    "    train_clean_img_gen_obj = my_train_clean_gen()\n",
    "\n",
    "    # ---------------------------------------------------------------------------- BATCHES SAMMELN Start ----------------------------------------------------------------------------------------\n",
    "    train_step = 0\n",
    "\n",
    "    for batch_idx in tqdm(range(batch_size_unet), desc=\"training...\", ascii=False, ncols=75):\n",
    "        print(\"next batch...\")\n",
    "        cnn_mean_prediction_values = []\n",
    "\n",
    "        with tf.GradientTape() as tape:\n",
    "\n",
    "            # Bilder für den nächsten Batch sammeln:\n",
    "            for i in range(batch_size_unet):\n",
    "                try:\n",
    "                    x_filmed = train_filmed_img_gen_obj.__next__()\n",
    "                    x_clean = train_clean_img_gen_obj.__next__()\n",
    "                except StopIteration as e:\n",
    "                    print(\n",
    "                        \"------------------------Am Ende angelangt, gehe in neue Epoche\")\n",
    "\n",
    "                    jump_to_new_epoch = True\n",
    "\n",
    "                if jump_to_new_epoch == True:\n",
    "                    # Alle Bilder sind aufgebraucht, gehe in neue Epoche\n",
    "                    break\n",
    "\n",
    "                y_pred, differenzbild_fourier_px, u_net_output, image_processed_rgb = calc_mean_alias_value_of_one_image(\n",
    "                    x_filmed,\n",
    "                    x_clean,\n",
    "                    show_intermediate_pics,\n",
    "                    IMG_WIDTH,\n",
    "                    IMG_HEIGHT,\n",
    "                    execute_postprocessing_model,\n",
    "                    execute_cnn_model,\n",
    "                    execute_UNet_model\n",
    "                )\n",
    "                cnn_mean_prediction_values.append(y_pred)\n",
    "\n",
    "                print(\"y_pred: \")\n",
    "                print(y_pred)\n",
    "\n",
    "                # ---------------------------------------------------------------------------- BATCHES SAMMELN ENDE ----------------------------------------------------------------------------------------\n",
    "\n",
    "            if SAFE_RESULTS:\n",
    "                plt.imsave(\n",
    "                    f\"{WRITE_PATH}\\\\x_filmed_{epoch}_{batch_idx}.png\", x_filmed)\n",
    "\n",
    "                plt.imsave(f\"{WRITE_PATH}\\\\differenzbild_{epoch}_{batch_idx}.png\",\n",
    "                           differenzbild_fourier_px.reshape((IMG_WIDTH, IMG_HEIGHT)), cmap=\"gray\")\n",
    "\n",
    "                plt.imsave(f\"{WRITE_PATH}\\\\unet_output_{epoch}_{batch_idx}.png\",\n",
    "                           u_net_output, cmap=\"gray\")\n",
    "\n",
    "                # Umformen in Numpy-Array\n",
    "                image_processed_rgb = np.array(\n",
    "                    image_processed_rgb).reshape((IMG_WIDTH, IMG_HEIGHT, 3))\n",
    "\n",
    "                # Max-Wert liegt manchesmal über 1 (keine ahnung warum...)\n",
    "                if np.max(image_processed_rgb) > 1:\n",
    "                    # Werte auf 0 - 1 bringen\n",
    "                    print(\"--------------- Betrete np.max(image_processed_rgb) >= 1\")\n",
    "                    print(\"np.max = \")\n",
    "                    print(np.max(image_processed_rgb))\n",
    "                    image_processed_rgb = image_processed_rgb / \\\n",
    "                        np.max(image_processed_rgb)\n",
    "\n",
    "                print(\"np.max(image_processed_rgb)\")\n",
    "                print(np.max(image_processed_rgb))\n",
    "\n",
    "                try:\n",
    "                    plt.imsave(f\"{WRITE_PATH}\\\\image_processed_rgb_{epoch}_{batch_idx}.png\",\n",
    "                            np.array(image_processed_rgb).reshape((IMG_WIDTH, IMG_HEIGHT, 3)))\n",
    "                except ValueError:\n",
    "                    print(\"------------------------- Speichern hat nicht geklappt, speichere stattdessen numpy array zur Inspektion:\")\n",
    "                    np.save(f\"{WRITE_PATH}\\\\image_processed_rgb_{epoch}_{batch_idx}.npy\", image_processed_rgb)\n",
    "\n",
    "\n",
    "            if jump_to_new_epoch == True:\n",
    "                # Alle Bilder sind aufgebraucht, gehe in neue epoche\n",
    "                break\n",
    "\n",
    "            # ----------- Calc loss for one batch -----------\n",
    "\n",
    "            y_true = tf.zeros(batch_size_unet, 1)\n",
    "\n",
    "            # print(\"cnn_mean_prediction_values.shape: \")\n",
    "            # print(np.array(cnn_mean_prediction_values).shape)\n",
    "\n",
    "            loss = loss_fn(y_true=y_true, y_pred=cnn_mean_prediction_values)\n",
    "            # print(\"loss for one batch: \")\n",
    "            # print(loss)\n",
    "\n",
    "            gradients = tape.gradient(loss, model_u_net.trainable_weights)\n",
    "            del cnn_mean_prediction_values[:]\n",
    "            # print(\"gradients: \")\n",
    "            # print(gradients)\n",
    "\n",
    "            # Optimize the model:\n",
    "            optimizer.apply_gradients(\n",
    "                zip(gradients, model_u_net.trainable_variables))\n",
    "\n",
    "            tmp = epoch_loss.update_state(y_true, y_pred)\n",
    "\n",
    "            # print(\"tmp\")\n",
    "            # print(tmp)\n",
    "\n",
    "            # print(\"------------------------------------\")\n",
    "            # print(\"y_true:\")\n",
    "            # print(y_true)\n",
    "\n",
    "            # print(\"y_pred\")\n",
    "            # print(y_pred)\n",
    "            # print(\"------------------------------------\")\n",
    "\n",
    "            # with train_writer.as_default():\n",
    "            #     tf.summary.scalar(\"Loss\", loss, step=train_step)\n",
    "            #     tf.summary.scalar(\n",
    "            #         \"Accuracy\", epoch_loss.result(), step=train_step,\n",
    "            #     )\n",
    "            # train_step += 1\n",
    "\n",
    "        # End Epoch\n",
    "\n",
    "        print(f\"--------------- epoch_loss: {epoch_loss.result()}\")\n",
    "        overall_train_loss.append(epoch_loss.result())\n",
    "\n",
    "\n",
    "# overall_train_loss = epoch_loss.result()\n",
    "# print(f\"overall_train_loss: {overall_train_loss}\")\n",
    "# epoch_loss.reset_states()\n"
   ]
  },
  {
   "cell_type": "code",
   "execution_count": 155,
   "metadata": {},
   "outputs": [
    {
     "data": {
      "text/plain": [
       "[<matplotlib.lines.Line2D at 0x24aa7b01160>]"
      ]
     },
     "execution_count": 155,
     "metadata": {},
     "output_type": "execute_result"
    },
    {
     "data": {
      "image/png": "[encoded data removed]",
      "text/plain": [
       "<Figure size 432x288 with 1 Axes>"
      ]
     },
     "metadata": {
      "needs_background": "light"
     },
     "output_type": "display_data"
    }
   ],
   "source": [
    "\n",
    "plt.plot(overall_train_loss)"
   ]
  },
  {
   "cell_type": "code",
   "execution_count": 156,
   "metadata": {},
   "outputs": [
    {
     "data": {
      "image/png": "[encoded data removed]",
      "text/plain": [
       "<Figure size 864x576 with 2 Axes>"
      ]
     },
     "metadata": {
      "needs_background": "light"
     },
     "output_type": "display_data"
    }
   ],
   "source": [
    "fig, axes = plt.subplots(2, sharex=True, figsize=(12, 8))\n",
    "fig.suptitle('Training Metrics')\n",
    "\n",
    "axes[0].set_ylabel(\"Loss\", fontsize=14)\n",
    "axes[0].plot(overall_train_loss)\n",
    "\n",
    "plt.show()\n"
   ]
  },
  {
   "cell_type": "code",
   "execution_count": 157,
   "metadata": {},
   "outputs": [],
   "source": [
    "# test_img = img[400:528, 400:528,:]\n",
    "# test_img = np.array(test_img).reshape(1, 128 , 128 , 3)\n",
    "\n",
    "# # plt.imshow(test_img)\n",
    "\n",
    "# test_img= tf.convert_to_tensor(test_img, dtype=tf.float32)\n",
    "\n",
    "# test_img\n"
   ]
  },
  {
   "cell_type": "code",
   "execution_count": 158,
   "metadata": {},
   "outputs": [],
   "source": [
    "# import tensorflow as tf\n",
    "# BATCH_SIZE = 1\n",
    "# NUM_BOXES = 3\n",
    "# IMAGE_HEIGHT = 128\n",
    "# IMAGE_WIDTH = 128\n",
    "# CHANNELS = 3\n",
    "# CROP_SIZE = (24, 24)\n",
    "\n",
    "# test_img = img[400:528, 400:528, :]\n",
    "# test_img = np.array(test_img).reshape(1, 128, 128, 3)\n",
    "\n",
    "# # plt.imshow(test_img)\n",
    "\n",
    "# test_img = tf.convert_to_tensor(test_img, dtype=tf.float32)\n",
    "# image = test_img\n",
    "# boxes = tf.random.uniform(shape=(NUM_BOXES, 4))\n",
    "# # plt.imshow(np.array(image).reshape(IMAGE_HEIGHT, IMAGE_WIDTH, CHANNELS))\n",
    "# # plt.show()\n",
    "# box_indices = tf.random.uniform(shape=(NUM_BOXES,), minval=0,\n",
    "#                                 maxval=BATCH_SIZE, dtype=tf.int32)\n",
    "# output = tf.image.crop_and_resize(image, boxes, box_indices, CROP_SIZE)\n",
    "# output.shape  # => (5, 24, 24, 3)\n",
    "\n",
    "# plt.imshow(output[2])\n"
   ]
  }
 ],
 "metadata": {
  "interpreter": {
   "hash": "bbe6f1f0ffae94815f8b68c5970304948992b116503ec65631f55d524065bfaa"
  },
  "kernelspec": {
   "display_name": "Python 3.9.7 ('tf_training')",
   "language": "python",
   "name": "python3"
  },
  "language_info": {
   "codemirror_mode": {
    "name": "ipython",
    "version": 3
   },
   "file_extension": ".py",
   "mimetype": "text/x-python",
   "name": "python",
   "nbconvert_exporter": "python",
   "pygments_lexer": "ipython3",
   "version": "3.9.7"
  },
  "orig_nbformat": 4
 },
 "nbformat": 4,
 "nbformat_minor": 2
}
