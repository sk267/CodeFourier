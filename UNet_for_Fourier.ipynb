{
 "cells": [
  {
   "cell_type": "code",
   "execution_count": 49,
   "metadata": {},
   "outputs": [],
   "source": [
    "import importlib\n",
    "\n",
    "import tensorflow as tf\n",
    "from tensorflow import keras\n",
    "from tensorflow.keras.layers import  InputLayer, Conv2D, Lambda, Dropout, MaxPooling2D, Conv2DTranspose, concatenate\n",
    "from tensorflow.keras.callbacks import ModelCheckpoint, TensorBoard, EarlyStopping\n",
    "import os\n",
    "import numpy as np\n",
    "from PIL import Image\n",
    "\n",
    "import Helper_Build_UNet_Model\n",
    "import Helper_Create_Postprocessing_Model\n",
    "import Helper_Calc_Mean_Alias_Value_Of_One_Image \n",
    "\n",
    "importlib.reload(Helper_Build_UNet_Model)\n",
    "importlib.reload(Helper_Create_Postprocessing_Model)\n",
    "importlib.reload(Helper_Calc_Mean_Alias_Value_Of_One_Image)\n",
    "\n",
    "from Helper_Build_UNet_Model import build_unet_model\n",
    "from Helper_Create_Postprocessing_Model import create_postprocessing_model, tf_inv_fourier_trans\n",
    "from Helper_Calc_Mean_Alias_Value_Of_One_Image import calc_mean_alias_value_of_one_image\n",
    "\n",
    "from tqdm import tqdm\n",
    "\n",
    "import matplotlib.pyplot as plt\n",
    "\n",
    "from UNet_Fourier_Facilities import Fourier_Images\n",
    "\n",
    "import time\n"
   ]
  },
  {
   "cell_type": "code",
   "execution_count": 50,
   "metadata": {},
   "outputs": [],
   "source": [
    "model_cnn = tf.keras.models.load_model(\"./cnn_models/single_rgb_image_regression_V02_epochs_100_1653595623\")\n"
   ]
  },
  {
   "cell_type": "code",
   "execution_count": 51,
   "metadata": {},
   "outputs": [],
   "source": [
    "np.random.seed = 42\n",
    "IMG_WIDTH = 128\n",
    "IMG_HEIGHT = 128\n",
    "IMG_CHANNELS = 3\n"
   ]
  },
  {
   "cell_type": "markdown",
   "metadata": {},
   "source": [
    "## Load Images"
   ]
  },
  {
   "cell_type": "code",
   "execution_count": 52,
   "metadata": {},
   "outputs": [],
   "source": [
    "TRAIN_FILMED_PATH = \"D:\\\\Main\\\\MA_PROGR\\\\Data\\\\Train\\\\UNet_Train\\\\model_at_tree_100_pics\\\\filmed\"\n",
    "TRAIN_CLEAN_PATH = \"D:\\\\Main\\\\MA_PROGR\\\\Data\\\\Train\\\\UNet_Train\\\\model_at_tree_100_pics\\\\clean_aligned\"\n",
    "# TEST_PATH = \"./Data/data-science-bowl-2018/stage1_test/\"\n"
   ]
  },
  {
   "cell_type": "code",
   "execution_count": 53,
   "metadata": {},
   "outputs": [],
   "source": [
    "train_filmed_imgs = []\n",
    "train_clean_imgs = []"
   ]
  },
  {
   "cell_type": "code",
   "execution_count": 54,
   "metadata": {},
   "outputs": [],
   "source": [
    "OFFSET = 200\n",
    "abbruch_idx = 30\n",
    "\n",
    "\n",
    "def my_train_filmed_gen():\n",
    "    for i, addr_filmed in enumerate(os.listdir(TRAIN_FILMED_PATH)):\n",
    "        img =  plt.imread(f\"{TRAIN_FILMED_PATH}\\{addr_filmed}\")\n",
    "        yield img[OFFSET:IMG_WIDTH+OFFSET, OFFSET:IMG_HEIGHT+OFFSET, :3]\n",
    "\n",
    "def my_train_clean_gen():\n",
    "    for i, addr_clean in enumerate(os.listdir(TRAIN_CLEAN_PATH)):\n",
    "        img =  plt.imread(f\"{TRAIN_CLEAN_PATH}\\{addr_clean}\")\n",
    "        yield img[OFFSET:IMG_WIDTH+OFFSET, OFFSET:IMG_HEIGHT+OFFSET, :3]\n",
    "\n",
    "\n",
    "train_filmed_img_gen_obj = my_train_filmed_gen()\n",
    "train_clean_img_gen_obj = my_train_clean_gen()"
   ]
  },
  {
   "cell_type": "markdown",
   "metadata": {},
   "source": [
    "## Build U-Net-Model"
   ]
  },
  {
   "cell_type": "code",
   "execution_count": 55,
   "metadata": {},
   "outputs": [],
   "source": [
    "model_u_net = build_unet_model(IMG_WIDTH, IMG_HEIGHT)\n",
    "# model_u_net.summary()\n"
   ]
  },
  {
   "cell_type": "markdown",
   "metadata": {},
   "source": [
    "# Build Postprecessing Model"
   ]
  },
  {
   "cell_type": "code",
   "execution_count": 56,
   "metadata": {},
   "outputs": [],
   "source": [
    "# postprocessing_model = create_postprocessing_model()\n",
    "# postprocessing_model.summary()\n"
   ]
  },
  {
   "cell_type": "markdown",
   "metadata": {},
   "source": [
    "## Custom Train loop\n"
   ]
  },
  {
   "cell_type": "code",
   "execution_count": 57,
   "metadata": {},
   "outputs": [
    {
     "name": "stdout",
     "output_type": "stream",
     "text": [
      "Start of epoch 0\n"
     ]
    },
    {
     "name": "stderr",
     "output_type": "stream",
     "text": [
      "training...:   0%|                                   | 0/5 [00:00<?, ?it/s]"
     ]
    },
    {
     "name": "stdout",
     "output_type": "stream",
     "text": [
      "next batch...\n",
      "---------------> u_net_output_for_img_save\n",
      "[[0.49999613 0.4999867  0.49999225 ... 0.49998513 0.49999502 0.5       ]\n",
      " [0.50000083 0.49995944 0.49999124 ... 0.49999183 0.50001025 0.49999148]\n",
      " [0.49997982 0.5000032  0.49999747 ... 0.5000053  0.50000906 0.49998564]\n",
      " ...\n",
      " [0.5000086  0.49997884 0.5000179  ... 0.49998873 0.49999952 0.49999753]\n",
      " [0.499997   0.5000113  0.49998647 ... 0.49999496 0.49999568 0.4999991 ]\n",
      " [0.5000013  0.4999914  0.49998856 ... 0.49999478 0.49998787 0.49999765]]\n"
     ]
    },
    {
     "name": "stderr",
     "output_type": "stream",
     "text": [
      "training...:  20%|█████▍                     | 1/5 [00:05<00:23,  5.83s/it]"
     ]
    },
    {
     "name": "stdout",
     "output_type": "stream",
     "text": [
      "--------------- epoch_loss: 0.1344151496887207\n",
      "next batch...\n",
      "---------------> u_net_output_for_img_save\n",
      "[[0.50106084 0.5009222  0.50085837 ... 0.5008208  0.5007355  0.50067466]\n",
      " [0.5014862  0.50077826 0.501874   ... 0.50067186 0.50133395 0.5002935 ]\n",
      " [0.50122297 0.5012643  0.50096524 ... 0.5015917  0.50054055 0.5008632 ]\n",
      " ...\n",
      " [0.50161034 0.5006524  0.5012825  ... 0.5006219  0.5010943  0.5004407 ]\n",
      " [0.5009674  0.50066    0.5013352  ... 0.50122046 0.50107306 0.50083894]\n",
      " [0.50111324 0.5006809  0.50078213 ... 0.5008736  0.50093096 0.5005779 ]]\n"
     ]
    },
    {
     "name": "stderr",
     "output_type": "stream",
     "text": [
      "training...:  40%|██████████▊                | 2/5 [00:10<00:15,  5.22s/it]"
     ]
    },
    {
     "name": "stdout",
     "output_type": "stream",
     "text": [
      "--------------- epoch_loss: 0.12517289817333221\n",
      "next batch...\n",
      "---------------> u_net_output_for_img_save\n",
      "[[0.5012354  0.5021378  0.5024096  ... 0.50217545 0.5011185  0.50129324]\n",
      " [0.5027414  0.50252825 0.50398886 ... 0.50171864 0.50277704 0.50145257]\n",
      " [0.50245816 0.5025811  0.50141114 ... 0.5034131  0.5018364  0.5014899 ]\n",
      " ...\n",
      " [0.5036877  0.5020574  0.50349486 ... 0.50134087 0.5029039  0.50070655]\n",
      " [0.50184375 0.5018237  0.50235504 ... 0.50282615 0.5023912  0.50144064]\n",
      " [0.5023313  0.5011868  0.5023221  ... 0.5018591  0.50206625 0.50144637]]\n"
     ]
    },
    {
     "name": "stderr",
     "output_type": "stream",
     "text": [
      "training...:  60%|████████████████▏          | 3/5 [00:15<00:09,  4.98s/it]"
     ]
    },
    {
     "name": "stdout",
     "output_type": "stream",
     "text": [
      "--------------- epoch_loss: 0.13018952310085297\n",
      "next batch...\n",
      "---------------> u_net_output_for_img_save\n",
      "[[0.50411475 0.502895   0.502572   ... 0.5027047  0.50235885 0.5019049 ]\n",
      " [0.5049916  0.50343806 0.5063193  ... 0.5019067  0.505138   0.50195557]\n",
      " [0.5035442  0.5041274  0.505331   ... 0.5037943  0.504444   0.501853  ]\n",
      " ...\n",
      " [0.5061519  0.50362706 0.5059044  ... 0.50326425 0.5058915  0.5010184 ]\n",
      " [0.5037124  0.5022988  0.50315666 ... 0.5029158  0.50394887 0.50253785]\n",
      " [0.50337666 0.50231487 0.5032329  ... 0.5027889  0.5032967  0.5017471 ]]\n"
     ]
    },
    {
     "name": "stderr",
     "output_type": "stream",
     "text": [
      "training...:  80%|█████████████████████▌     | 4/5 [00:20<00:04,  4.87s/it]"
     ]
    },
    {
     "name": "stdout",
     "output_type": "stream",
     "text": [
      "--------------- epoch_loss: 0.12191537767648697\n",
      "next batch...\n",
      "---------------> u_net_output_for_img_save\n",
      "[[0.5045249  0.50494707 0.50464654 ... 0.5029051  0.5033042  0.5022245 ]\n",
      " [0.5106448  0.50151896 0.51209164 ... 0.5033211  0.507005   0.5015431 ]\n",
      " [0.50398797 0.5049272  0.5052795  ... 0.50748265 0.50534666 0.50453746]\n",
      " ...\n",
      " [0.50972193 0.50432587 0.51112723 ... 0.50577796 0.5058661  0.501193  ]\n",
      " [0.5023435  0.5016514  0.50495124 ... 0.5021781  0.5039429  0.5037367 ]\n",
      " [0.50324017 0.50296444 0.50339246 ... 0.5028093  0.50445217 0.5027712 ]]\n"
     ]
    },
    {
     "name": "stderr",
     "output_type": "stream",
     "text": [
      "training...: 100%|███████████████████████████| 5/5 [00:24<00:00,  4.95s/it]\n"
     ]
    },
    {
     "name": "stdout",
     "output_type": "stream",
     "text": [
      "--------------- epoch_loss: 0.125151127576828\n",
      "Start of epoch 1\n"
     ]
    },
    {
     "name": "stderr",
     "output_type": "stream",
     "text": [
      "training...:   0%|                                   | 0/5 [00:00<?, ?it/s]"
     ]
    },
    {
     "name": "stdout",
     "output_type": "stream",
     "text": [
      "next batch...\n",
      "---------------> u_net_output_for_img_save\n",
      "[[0.5035342  0.50287485 0.50639755 ... 0.5052035  0.5046264  0.50351375]\n",
      " [0.51038533 0.5079919  0.5191309  ... 0.5061811  0.5114589  0.50192213]\n",
      " [0.50618035 0.50516987 0.5063906  ... 0.5087278  0.5080188  0.50610465]\n",
      " ...\n",
      " [0.5144442  0.50431293 0.51342815 ... 0.5049774  0.51069736 0.5028177 ]\n",
      " [0.50299424 0.5036851  0.5074227  ... 0.5057166  0.5064002  0.50568724]\n",
      " [0.5068775  0.50468093 0.5074271  ... 0.50065845 0.5066113  0.5023025 ]]\n"
     ]
    },
    {
     "name": "stderr",
     "output_type": "stream",
     "text": [
      "training...:  20%|█████▍                     | 1/5 [00:04<00:18,  4.73s/it]"
     ]
    },
    {
     "name": "stdout",
     "output_type": "stream",
     "text": [
      "--------------- epoch_loss: 0.12340757995843887\n",
      "next batch...\n",
      "---------------> u_net_output_for_img_save\n",
      "[[0.5076472  0.507979   0.50974786 ... 0.508306   0.5059496  0.5045794 ]\n",
      " [0.52105075 0.5037005  0.52417916 ... 0.5077726  0.5146364  0.5009331 ]\n",
      " [0.5070467  0.5112862  0.50726706 ... 0.51430005 0.51097447 0.50768846]\n",
      " ...\n",
      " [0.5205961  0.5062153  0.5209668  ... 0.5094916  0.5113931  0.50195694]\n",
      " [0.506618   0.5091878  0.50749654 ... 0.50492096 0.50804937 0.50792825]\n",
      " [0.51124877 0.506206   0.50912935 ... 0.50479347 0.5084806  0.50439847]]\n"
     ]
    },
    {
     "name": "stderr",
     "output_type": "stream",
     "text": [
      "training...:  40%|██████████▊                | 2/5 [00:09<00:14,  4.76s/it]"
     ]
    },
    {
     "name": "stdout",
     "output_type": "stream",
     "text": [
      "--------------- epoch_loss: 0.12665137648582458\n",
      "next batch...\n",
      "---------------> u_net_output_for_img_save\n",
      "[[0.51099026 0.5067517  0.5101747  ... 0.5079589  0.5091527  0.5041178 ]\n",
      " [0.5227057  0.50973994 0.53759307 ... 0.50516766 0.5215037  0.5019451 ]\n",
      " [0.50728697 0.5078899  0.5146605  ... 0.5185341  0.5181975  0.5094702 ]\n",
      " ...\n",
      " [0.5327762  0.5026755  0.5270844  ... 0.5042786  0.5218828  0.5022437 ]\n",
      " [0.5060436  0.51177204 0.51121765 ... 0.51122475 0.51160586 0.5093676 ]\n",
      " [0.51815283 0.49983472 0.5129323  ... 0.5024137  0.509639   0.5028141 ]]\n"
     ]
    },
    {
     "name": "stderr",
     "output_type": "stream",
     "text": [
      "training...:  60%|████████████████▏          | 3/5 [00:14<00:09,  4.74s/it]"
     ]
    },
    {
     "name": "stdout",
     "output_type": "stream",
     "text": [
      "--------------- epoch_loss: 0.12767216563224792\n",
      "next batch...\n",
      "---------------> u_net_output_for_img_save\n",
      "[[0.5192118  0.51237273 0.51139194 ... 0.50617445 0.5127517  0.5099818 ]\n",
      " [0.5554081  0.49547094 0.5802103  ... 0.49905795 0.5364151  0.49631917]\n",
      " [0.51218593 0.5238464  0.51694465 ... 0.53032726 0.52155876 0.5101485 ]\n",
      " ...\n",
      " [0.55532044 0.49162656 0.56960523 ... 0.50601447 0.53008133 0.4985714 ]\n",
      " [0.50456524 0.5128836  0.5238958  ... 0.50609064 0.516501   0.50972867]\n",
      " [0.5314236  0.49687    0.5207802  ... 0.49825054 0.5123784  0.5023142 ]]\n"
     ]
    },
    {
     "name": "stderr",
     "output_type": "stream",
     "text": [
      "training...:  80%|█████████████████████▌     | 4/5 [00:19<00:04,  4.81s/it]"
     ]
    },
    {
     "name": "stdout",
     "output_type": "stream",
     "text": [
      "--------------- epoch_loss: 0.12269458174705505\n",
      "next batch...\n",
      "---------------> u_net_output_for_img_save\n",
      "[[0.5435098  0.5002967  0.5308459  ... 0.50434786 0.5307635  0.51425266]\n",
      " [0.6518649  0.47644374 0.7242691  ... 0.49107093 0.56069034 0.4826993 ]\n",
      " [0.50013095 0.56391144 0.55040216 ... 0.53316104 0.53506273 0.51208425]\n",
      " ...\n",
      " [0.6254033  0.4986248  0.63770056 ... 0.5006016  0.54223615 0.5027944 ]\n",
      " [0.50609225 0.5335424  0.5531307  ... 0.5256114  0.5265876  0.51992244]\n",
      " [0.5656861  0.49246237 0.5233804  ... 0.49936917 0.5195432  0.5033285 ]]\n"
     ]
    },
    {
     "name": "stderr",
     "output_type": "stream",
     "text": [
      "training...: 100%|███████████████████████████| 5/5 [00:23<00:00,  4.78s/it]\n"
     ]
    },
    {
     "name": "stdout",
     "output_type": "stream",
     "text": [
      "--------------- epoch_loss: 0.11318830400705338\n",
      "Start of epoch 2\n"
     ]
    },
    {
     "name": "stderr",
     "output_type": "stream",
     "text": [
      "training...:   0%|                                   | 0/5 [00:00<?, ?it/s]"
     ]
    },
    {
     "name": "stdout",
     "output_type": "stream",
     "text": [
      "next batch...\n",
      "---------------> u_net_output_for_img_save\n",
      "[[0.65609    0.6024388  0.571243   ... 0.52117443 0.56397355 0.51263803]\n",
      " [0.9372721  0.2934345  0.98394686 ... 0.3975039  0.7322183  0.4536805 ]\n",
      " [0.4350402  0.5030603  0.6846245  ... 0.5863282  0.5760595  0.50503033]\n",
      " ...\n",
      " [0.94063336 0.44828963 0.9325824  ... 0.4391235  0.54630125 0.49962813]\n",
      " [0.46989924 0.68897736 0.72243273 ... 0.51362133 0.51783127 0.54242194]\n",
      " [0.74477637 0.4283315  0.5949067  ... 0.46634927 0.5122475  0.5021389 ]]\n"
     ]
    },
    {
     "name": "stderr",
     "output_type": "stream",
     "text": [
      "training...:  20%|█████▍                     | 1/5 [00:04<00:18,  4.74s/it]"
     ]
    },
    {
     "name": "stdout",
     "output_type": "stream",
     "text": [
      "--------------- epoch_loss: 0.10524129122495651\n",
      "next batch...\n",
      "---------------> u_net_output_for_img_save\n",
      "[[0.73069745 0.5680503  0.53976905 ... 0.47197238 0.58217674 0.5189942 ]\n",
      " [0.99453217 0.208332   0.9999139  ... 0.55470115 0.6994021  0.50919086]\n",
      " [0.55719227 0.573621   0.87481725 ... 0.57967365 0.53370905 0.51757693]\n",
      " ...\n",
      " [0.996946   0.5318965  0.9783839  ... 0.5241144  0.6151635  0.47650623]\n",
      " [0.54026383 0.8431604  0.66742    ... 0.51270765 0.5788496  0.5458423 ]\n",
      " [0.89686847 0.47297582 0.8063178  ... 0.4948127  0.51095843 0.4868644 ]]\n"
     ]
    },
    {
     "name": "stderr",
     "output_type": "stream",
     "text": [
      "training...:  40%|██████████▊                | 2/5 [00:09<00:14,  4.80s/it]"
     ]
    },
    {
     "name": "stdout",
     "output_type": "stream",
     "text": [
      "--------------- epoch_loss: 0.09874431043863297\n",
      "next batch...\n",
      "---------------> u_net_output_for_img_save\n",
      "[[0.8971807  0.78757244 0.7154317  ... 0.5832191  0.6075593  0.5171924 ]\n",
      " [0.9979943  0.3649416  0.99999845 ... 0.5201512  0.81743884 0.4743905 ]\n",
      " [0.4405651  0.93035316 0.74664295 ... 0.65223616 0.6841018  0.555085  ]\n",
      " ...\n",
      " [0.9992751  0.8619524  0.99908626 ... 0.5377262  0.6642835  0.48950508]\n",
      " [0.53741825 0.83399045 0.7838187  ... 0.5434212  0.5973578  0.54786664]\n",
      " [0.95825446 0.5264148  0.7964264  ... 0.502213   0.53523654 0.50458926]]\n"
     ]
    },
    {
     "name": "stderr",
     "output_type": "stream",
     "text": [
      "training...:  60%|████████████████▏          | 3/5 [00:14<00:09,  4.77s/it]"
     ]
    },
    {
     "name": "stdout",
     "output_type": "stream",
     "text": [
      "--------------- epoch_loss: 0.09184597432613373\n",
      "next batch...\n",
      "---------------> u_net_output_for_img_save\n",
      "[[0.9498711  0.60932064 0.79701626 ... 0.5889804  0.5930426  0.5253476 ]\n",
      " [0.99992406 0.7290177  0.9999994  ... 0.56626344 0.82351714 0.54038477]\n",
      " [0.788092   0.9670023  0.9071196  ... 0.7116223  0.58657545 0.5556688 ]\n",
      " ...\n",
      " [0.999998   0.9840008  0.99917233 ... 0.5830607  0.6714163  0.47086373]\n",
      " [0.6873393  0.95436597 0.961639   ... 0.56121874 0.5209917  0.5632646 ]\n",
      " [0.98797965 0.5339148  0.949876   ... 0.52293974 0.5205467  0.49646944]]\n"
     ]
    },
    {
     "name": "stderr",
     "output_type": "stream",
     "text": [
      "training...:  80%|█████████████████████▌     | 4/5 [00:19<00:04,  4.78s/it]"
     ]
    },
    {
     "name": "stdout",
     "output_type": "stream",
     "text": [
      "--------------- epoch_loss: 0.08622585982084274\n",
      "next batch...\n",
      "---------------> u_net_output_for_img_save\n",
      "[[0.9753796  0.80308414 0.93352234 ... 0.5805643  0.61070645 0.51926553]\n",
      " [0.9999988  0.99306333 1.         ... 0.6010051  0.8089807  0.51257116]\n",
      " [0.9417217  0.9851271  0.9979911  ... 0.66510296 0.6504653  0.56681687]\n",
      " ...\n",
      " [1.         0.99976563 0.9999673  ... 0.60350984 0.6742886  0.49696785]\n",
      " [0.7531966  0.9069061  0.9784293  ... 0.6210437  0.5107745  0.54975915]\n",
      " [0.99855685 0.6134665  0.9833678  ... 0.5178607  0.5902331  0.5151982 ]]\n"
     ]
    },
    {
     "name": "stderr",
     "output_type": "stream",
     "text": [
      "training...: 100%|███████████████████████████| 5/5 [00:23<00:00,  4.77s/it]"
     ]
    },
    {
     "name": "stdout",
     "output_type": "stream",
     "text": [
      "--------------- epoch_loss: 0.08138851076364517\n"
     ]
    },
    {
     "name": "stderr",
     "output_type": "stream",
     "text": [
      "\n"
     ]
    }
   ],
   "source": [
    "# Custom train loop\n",
    "\n",
    "SAFE_RESULTS = True\n",
    "WRITE_PATH = \"D:\\\\Main\\\\MA_PROGR\\\\Data\\\\UNET_Output\\\\Session11\"\n",
    "\n",
    "show_intermediate_pics = False\n",
    "\n",
    "RGB_WEIGHTS = [0.299, 0.587, 0.114]\n",
    "\n",
    "\n",
    "overall_train_loss = []\n",
    "\n",
    "execute_UNet_model = tf.function(model_u_net)\n",
    "execute_cnn_model = tf.function(model_cnn)\n",
    "# execute_postprocessing_model = tf.function(postprocessing_model)\n",
    "\n",
    "NUM_EPOCHS = 10\n",
    "batch_size_cnn = 1\n",
    "batch_size_unet = 5\n",
    "\n",
    "\n",
    "optimizer = tf.keras.optimizers.Adam()\n",
    "loss_fn = tf.keras.losses.MeanAbsoluteError()\n",
    "epoch_loss = tf.keras.metrics.MeanAbsoluteError()\n",
    "\n",
    "\n",
    "train_writer = tf.summary.create_file_writer(\"u_net_logs/train/\")\n",
    "test_writer = tf.summary.create_file_writer(\"u_net_logs/test/\")\n",
    "\n",
    "y_true = tf.constant(0, dtype=tf.float16, name=\"y_true\")\n",
    "\n",
    "jump_to_new_epoch = False\n",
    "\n",
    "for epoch in range(NUM_EPOCHS):\n",
    "\n",
    "    print(f\"Start of epoch {epoch}\")\n",
    "    jump_to_new_epoch = False\n",
    "\n",
    "    # Mache neue Generater, sodass wieder durch alle Bilder durchgegange wird für die nächste Epoche:\n",
    "    train_filmed_img_gen_obj = my_train_filmed_gen()\n",
    "    train_clean_img_gen_obj = my_train_clean_gen()\n",
    "\n",
    "    # ---------------------------------------------------------------------------- BATCHES SAMMELN Start ----------------------------------------------------------------------------------------\n",
    "    train_step = 0\n",
    "\n",
    "    for batch_idx in tqdm(range(batch_size_unet), desc=\"training...\", ascii=False, ncols=75):\n",
    "        print(\"next batch...\")\n",
    "        cnn_mean_prediction_values = []\n",
    "\n",
    "        with tf.GradientTape() as tape:\n",
    "\n",
    "            # Bilder für den nächsten Batch sammeln:\n",
    "            for i in range(batch_size_unet):\n",
    "                try:\n",
    "                    x_filmed = train_filmed_img_gen_obj.__next__()\n",
    "                    x_clean = train_clean_img_gen_obj.__next__()\n",
    "                except StopIteration as e:\n",
    "                    print(\n",
    "                        \"------------------------Am Ende angelangt, gehe in neue Epoche\")\n",
    "\n",
    "                    jump_to_new_epoch = True\n",
    "\n",
    "                if jump_to_new_epoch == True:\n",
    "                    # Alle Bilder sind aufgebraucht, gehe in neue Epoche\n",
    "                    break\n",
    "\n",
    "                y_pred, differenzbild_fourier_px, u_net_output, image_processed_rgb = calc_mean_alias_value_of_one_image(\n",
    "                    x_filmed,\n",
    "                    x_clean,\n",
    "                    show_intermediate_pics,\n",
    "                    IMG_WIDTH,\n",
    "                    IMG_HEIGHT,\n",
    "                    execute_cnn_model,\n",
    "                    execute_UNet_model\n",
    "                )\n",
    "                cnn_mean_prediction_values.append(y_pred)\n",
    "\n",
    "                # print(\"y_pred: \")\n",
    "                # print(y_pred)\n",
    "\n",
    "                # ---------------------------------------------------------------------------- BATCHES SAMMELN ENDE ----------------------------------------------------------------------------------------\n",
    "\n",
    "\n",
    "            if SAFE_RESULTS:\n",
    "                plt.imsave(\n",
    "                    f\"{WRITE_PATH}\\\\x_filmed_{epoch}_{batch_idx}.png\", x_filmed)\n",
    "                plt.imsave(\n",
    "                    f\"{WRITE_PATH}\\\\x_clean_{epoch}_{batch_idx}.png\", x_clean)\n",
    "\n",
    "                plt.imsave(f\"{WRITE_PATH}\\\\differenzbild_{epoch}_{batch_idx}.png\",\n",
    "                           differenzbild_fourier_px.reshape((IMG_WIDTH, IMG_HEIGHT)), cmap=\"gray\")\n",
    "\n",
    "\n",
    "\n",
    "                u_net_output_for_img_save = np.array(u_net_output).reshape(IMG_WIDTH, IMG_HEIGHT)\n",
    "                print(\"---------------> u_net_output_for_img_save\")\n",
    "                print(u_net_output_for_img_save)\n",
    "                plt.imsave(f\"{WRITE_PATH}\\\\unet_output_{epoch}_{batch_idx}.png\",\n",
    "                           u_net_output_for_img_save, cmap=\"gray\")\n",
    "\n",
    "                # image_processed_rgb umformen in Numpy-Array\n",
    "                image_processed_rgb_for_img_save = np.array(\n",
    "                    image_processed_rgb).reshape((IMG_WIDTH, IMG_HEIGHT, 3))\n",
    "                try:\n",
    "                    plt.imsave(f\"{WRITE_PATH}\\\\image_processed_rgb_{epoch}_{batch_idx}.png\", image_processed_rgb_for_img_save)\n",
    "                except ValueError:\n",
    "                    print(\"------------------------- Speichern hat nicht geklappt, speichere stattdessen numpy array zur Inspektion:\")\n",
    "                    np.save(f\"{WRITE_PATH}\\\\image_processed_rgb_{epoch}_{batch_idx}.npy\", image_processed_rgb_for_img_save)\n",
    "\n",
    "\n",
    "            if jump_to_new_epoch == True:\n",
    "                # Alle Bilder sind aufgebraucht, gehe in neue epoche\n",
    "                break\n",
    "\n",
    "            # ----------- Calc loss for one batch -----------\n",
    "\n",
    "            y_true = tf.zeros(batch_size_unet, 1)\n",
    "\n",
    "            # print(\"cnn_mean_prediction_values.shape: \")\n",
    "            # print(np.array(cnn_mean_prediction_values).shape)\n",
    "\n",
    "            loss = loss_fn(y_true=y_true, y_pred=cnn_mean_prediction_values)\n",
    "            # print(\"loss for one batch: \")\n",
    "            # print(loss)\n",
    "\n",
    "            gradients = tape.gradient(loss, model_u_net.trainable_weights)\n",
    "            del cnn_mean_prediction_values[:]\n",
    "            # print(\"gradients: \")\n",
    "            # print(gradients)\n",
    "\n",
    "            # Optimize the model:\n",
    "            optimizer.apply_gradients(\n",
    "                zip(gradients, model_u_net.trainable_variables))\n",
    "\n",
    "            tmp = epoch_loss.update_state(y_true, y_pred)\n",
    "\n",
    "            # print(\"tmp\")\n",
    "            # print(tmp)\n",
    "\n",
    "            # print(\"------------------------------------\")\n",
    "            # print(\"y_true:\")\n",
    "            # print(y_true)\n",
    "\n",
    "            # print(\"y_pred\")\n",
    "            # print(y_pred)\n",
    "            # print(\"------------------------------------\")\n",
    "\n",
    "            # with train_writer.as_default():\n",
    "            #     tf.summary.scalar(\"Loss\", loss, step=train_step)\n",
    "            #     tf.summary.scalar(\n",
    "            #         \"Accuracy\", epoch_loss.result(), step=train_step,\n",
    "            #     )\n",
    "            # train_step += 1\n",
    "\n",
    "        # End Epoch\n",
    "\n",
    "        print(f\"--------------- epoch_loss: {epoch_loss.result()}\")\n",
    "        overall_train_loss.append(epoch_loss.result())\n",
    "\n",
    "\n",
    "# overall_train_loss = epoch_loss.result()\n",
    "# print(f\"overall_train_loss: {overall_train_loss}\")\n",
    "# epoch_loss.reset_states()\n",
    "\n",
    "\n"
   ]
  },
  {
   "cell_type": "code",
   "execution_count": 58,
   "metadata": {},
   "outputs": [
    {
     "data": {
      "text/plain": [
       "[<matplotlib.lines.Line2D at 0x1ef10c03400>]"
      ]
     },
     "execution_count": 58,
     "metadata": {},
     "output_type": "execute_result"
    },
    {
     "data": {
      "image/png": "[encoded data removed]",
      "text/plain": [
       "<Figure size 432x288 with 1 Axes>"
      ]
     },
     "metadata": {
      "needs_background": "light"
     },
     "output_type": "display_data"
    }
   ],
   "source": [
    "\n",
    "plt.plot(overall_train_loss)"
   ]
  },
  {
   "cell_type": "code",
   "execution_count": 59,
   "metadata": {},
   "outputs": [
    {
     "data": {
      "image/png": "[encoded data removed]",
      "text/plain": [
       "<Figure size 864x576 with 2 Axes>"
      ]
     },
     "metadata": {
      "needs_background": "light"
     },
     "output_type": "display_data"
    }
   ],
   "source": [
    "fig, axes = plt.subplots(2, sharex=True, figsize=(12, 8))\n",
    "fig.suptitle('Training Metrics')\n",
    "\n",
    "axes[0].set_ylabel(\"Loss\", fontsize=14)\n",
    "axes[0].plot(overall_train_loss)\n",
    "\n",
    "plt.show()\n"
   ]
  },
  {
   "cell_type": "code",
   "execution_count": 60,
   "metadata": {},
   "outputs": [],
   "source": [
    "# test_img = img[400:528, 400:528,:]\n",
    "# test_img = np.array(test_img).reshape(1, 128 , 128 , 3)\n",
    "\n",
    "# # plt.imshow(test_img)\n",
    "\n",
    "# test_img= tf.convert_to_tensor(test_img, dtype=tf.float32)\n",
    "\n",
    "# test_img\n"
   ]
  },
  {
   "cell_type": "code",
   "execution_count": 61,
   "metadata": {},
   "outputs": [],
   "source": [
    "# import tensorflow as tf\n",
    "# BATCH_SIZE = 1\n",
    "# NUM_BOXES = 3\n",
    "# IMAGE_HEIGHT = 128\n",
    "# IMAGE_WIDTH = 128\n",
    "# CHANNELS = 3\n",
    "# CROP_SIZE = (24, 24)\n",
    "\n",
    "# test_img = img[400:528, 400:528, :]\n",
    "# test_img = np.array(test_img).reshape(1, 128, 128, 3)\n",
    "\n",
    "# # plt.imshow(test_img)\n",
    "\n",
    "# test_img = tf.convert_to_tensor(test_img, dtype=tf.float32)\n",
    "# image = test_img\n",
    "# boxes = tf.random.uniform(shape=(NUM_BOXES, 4))\n",
    "# # plt.imshow(np.array(image).reshape(IMAGE_HEIGHT, IMAGE_WIDTH, CHANNELS))\n",
    "# # plt.show()\n",
    "# box_indices = tf.random.uniform(shape=(NUM_BOXES,), minval=0,\n",
    "#                                 maxval=BATCH_SIZE, dtype=tf.int32)\n",
    "# output = tf.image.crop_and_resize(image, boxes, box_indices, CROP_SIZE)\n",
    "# output.shape  # => (5, 24, 24, 3)\n",
    "\n",
    "# plt.imshow(output[2])\n"
   ]
  }
 ],
 "metadata": {
  "interpreter": {
   "hash": "bbe6f1f0ffae94815f8b68c5970304948992b116503ec65631f55d524065bfaa"
  },
  "kernelspec": {
   "display_name": "Python 3.9.7 ('tf_training')",
   "language": "python",
   "name": "python3"
  },
  "language_info": {
   "codemirror_mode": {
    "name": "ipython",
    "version": 3
   },
   "file_extension": ".py",
   "mimetype": "text/x-python",
   "name": "python",
   "nbconvert_exporter": "python",
   "pygments_lexer": "ipython3",
   "version": "3.9.7"
  },
  "orig_nbformat": 4
 },
 "nbformat": 4,
 "nbformat_minor": 2
}
