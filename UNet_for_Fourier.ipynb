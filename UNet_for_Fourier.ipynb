{
 "cells": [
  {
   "cell_type": "code",
   "execution_count": 710,
   "metadata": {},
   "outputs": [],
   "source": [
    "import tensorflow as tf\n",
    "from tensorflow import keras\n",
    "from tensorflow.keras.layers import  InputLayer, Conv2D, Lambda, Dropout, MaxPooling2D, Conv2DTranspose, concatenate\n",
    "from tensorflow.keras.callbacks import ModelCheckpoint, TensorBoard, EarlyStopping\n",
    "import os\n",
    "import numpy as np\n",
    "from PIL import Image\n",
    "\n",
    "from tqdm import tqdm\n",
    "\n",
    "import matplotlib.pyplot as plt\n",
    "\n",
    "from UNet_Fourier_Facilities import Fourier_Images\n",
    "\n",
    "import time\n"
   ]
  },
  {
   "cell_type": "code",
   "execution_count": 711,
   "metadata": {},
   "outputs": [
    {
     "name": "stdout",
     "output_type": "stream",
     "text": [
      "1654106464\n"
     ]
    }
   ],
   "source": [
    "print(int(time.time()))"
   ]
  },
  {
   "cell_type": "code",
   "execution_count": 712,
   "metadata": {},
   "outputs": [],
   "source": [
    "model_cnn = tf.keras.models.load_model(\"./cnn_models/single_rgb_image_regression_V02_epochs_100_1653595623\")\n"
   ]
  },
  {
   "cell_type": "markdown",
   "metadata": {},
   "source": [
    "## UNet-Model"
   ]
  },
  {
   "cell_type": "code",
   "execution_count": 713,
   "metadata": {},
   "outputs": [],
   "source": [
    "# model_cnn = tf.keras.models.load_model(\"./models/single_rgb_image\")\n"
   ]
  },
  {
   "cell_type": "code",
   "execution_count": 714,
   "metadata": {},
   "outputs": [],
   "source": [
    "# img1 = Image.open(\n",
    "#     \"D:\\Main\\MA_PROGR\\Data\\Train\\LED_Wand_Aufnahmen\\Alias\\LED_Wand_20001.png\")\n",
    "# img1 = np.asarray(img1)/255\n",
    "# img1 = img1.reshape(1, 60, 60, 3)\n",
    "# res1 = model.predict(img1)\n",
    "# print(res1)\n"
   ]
  },
  {
   "cell_type": "code",
   "execution_count": 715,
   "metadata": {},
   "outputs": [],
   "source": [
    "np.random.seed = 42\n",
    "IMG_WIDTH = 128\n",
    "IMG_HEIGHT = 128\n",
    "IMG_CHANNELS = 3\n"
   ]
  },
  {
   "cell_type": "markdown",
   "metadata": {},
   "source": [
    "## Load Images"
   ]
  },
  {
   "cell_type": "code",
   "execution_count": 716,
   "metadata": {},
   "outputs": [],
   "source": [
    "TRAIN_FILMED_PATH = \"D:\\\\Main\\\\MA_PROGR\\\\Data\\\\Train\\\\UNet_Train\\\\model_at_tree_100_pics\\\\filmed\"\n",
    "TRAIN_CLEAN_PATH = \"D:\\\\Main\\\\MA_PROGR\\\\Data\\\\Train\\\\UNet_Train\\\\model_at_tree_100_pics\\\\clean_aligned\"\n",
    "# TEST_PATH = \"./Data/data-science-bowl-2018/stage1_test/\"\n"
   ]
  },
  {
   "cell_type": "code",
   "execution_count": 717,
   "metadata": {},
   "outputs": [],
   "source": [
    "train_filmed_imgs = []\n",
    "train_clean_imgs = []"
   ]
  },
  {
   "cell_type": "code",
   "execution_count": 718,
   "metadata": {},
   "outputs": [],
   "source": [
    "OFFSET = 200\n",
    "abbruch_idx = 30\n",
    "\n",
    "\n",
    "def my_train_filmed_gen():\n",
    "    for i, addr_filmed in enumerate(os.listdir(TRAIN_FILMED_PATH)):\n",
    "        img =  plt.imread(f\"{TRAIN_FILMED_PATH}\\{addr_filmed}\")\n",
    "        yield img[OFFSET:IMG_WIDTH+OFFSET, OFFSET:IMG_HEIGHT+OFFSET, :3]\n",
    "\n",
    "def my_train_clean_gen():\n",
    "    for i, addr_clean in enumerate(os.listdir(TRAIN_CLEAN_PATH)):\n",
    "        img =  plt.imread(f\"{TRAIN_CLEAN_PATH}\\{addr_clean}\")\n",
    "        yield img[OFFSET:IMG_WIDTH+OFFSET, OFFSET:IMG_HEIGHT+OFFSET, :3]\n",
    "\n",
    "\n",
    "train_filmed_img_gen_obj = my_train_filmed_gen()\n",
    "train_clean_img_gen_obj = my_train_clean_gen()\n",
    "\n",
    "# for i, addr_filmed in enumerate( os.listdir(TRAIN_FILMED_PATH)):\n",
    "#     if i > 5:\n",
    "#         break\n",
    "#     img = plt.imread(f\"{TRAIN_FILMED_PATH}\\{addr_filmed}\")\n",
    "\n",
    "#     # :3 falls es Alpha Channel gibt (der soll weg)\n",
    "#     train_filmed_imgs.append(\n",
    "#         img[OFFSET:IMG_WIDTH+OFFSET, OFFSET:IMG_HEIGHT+OFFSET, :3])\n",
    "\n",
    "# for i , addr_clean in enumerate(os.listdir(TRAIN_CLEAN_PATH)):\n",
    "#     if i > 5:\n",
    "#         break\n",
    "#     # :3 falls es Alpha Channel gibt (der soll weg)\n",
    "#     img = plt.imread(f\"{TRAIN_CLEAN_PATH}\\{addr_clean}\")\n",
    "#     train_clean_imgs.append(\n",
    "#         img[OFFSET:IMG_WIDTH+OFFSET, OFFSET:IMG_HEIGHT+OFFSET, :3])\n"
   ]
  },
  {
   "cell_type": "code",
   "execution_count": 719,
   "metadata": {},
   "outputs": [],
   "source": [
    "# plt.imshow(train_filmed_img_gen_obj.__next__())"
   ]
  },
  {
   "cell_type": "code",
   "execution_count": 720,
   "metadata": {},
   "outputs": [],
   "source": [
    "# plt.imshow(train_clean_img_gen_obj.__next__())\n"
   ]
  },
  {
   "cell_type": "code",
   "execution_count": 721,
   "metadata": {},
   "outputs": [],
   "source": [
    "# plt.imshow(train_clean_imgs[0])\n",
    "# plt.show()\n"
   ]
  },
  {
   "cell_type": "markdown",
   "metadata": {},
   "source": [
    "## Build U-Net-Model"
   ]
  },
  {
   "cell_type": "code",
   "execution_count": 722,
   "metadata": {},
   "outputs": [
    {
     "name": "stdout",
     "output_type": "stream",
     "text": [
      "Model: \"model_39\"\n",
      "__________________________________________________________________________________________________\n",
      "Layer (type)                    Output Shape         Param #     Connected to                     \n",
      "==================================================================================================\n",
      "input_391 (InputLayer)          [(None, 128, 128, 1) 0                                            \n",
      "__________________________________________________________________________________________________\n",
      "lambda_39 (Lambda)              (None, 128, 128, 1)  0           input_391[0][0]                  \n",
      "__________________________________________________________________________________________________\n",
      "conv2d_741 (Conv2D)             (None, 128, 128, 16) 160         lambda_39[0][0]                  \n",
      "__________________________________________________________________________________________________\n",
      "dropout_351 (Dropout)           (None, 128, 128, 16) 0           conv2d_741[0][0]                 \n",
      "__________________________________________________________________________________________________\n",
      "conv2d_742 (Conv2D)             (None, 128, 128, 16) 2320        dropout_351[0][0]                \n",
      "__________________________________________________________________________________________________\n",
      "max_pooling2d_156 (MaxPooling2D (None, 64, 64, 16)   0           conv2d_742[0][0]                 \n",
      "__________________________________________________________________________________________________\n",
      "conv2d_743 (Conv2D)             (None, 64, 64, 32)   4640        max_pooling2d_156[0][0]          \n",
      "__________________________________________________________________________________________________\n",
      "dropout_352 (Dropout)           (None, 64, 64, 32)   0           conv2d_743[0][0]                 \n",
      "__________________________________________________________________________________________________\n",
      "conv2d_744 (Conv2D)             (None, 64, 64, 32)   9248        dropout_352[0][0]                \n",
      "__________________________________________________________________________________________________\n",
      "max_pooling2d_157 (MaxPooling2D (None, 32, 32, 32)   0           conv2d_744[0][0]                 \n",
      "__________________________________________________________________________________________________\n",
      "conv2d_745 (Conv2D)             (None, 32, 32, 64)   18496       max_pooling2d_157[0][0]          \n",
      "__________________________________________________________________________________________________\n",
      "dropout_353 (Dropout)           (None, 32, 32, 64)   0           conv2d_745[0][0]                 \n",
      "__________________________________________________________________________________________________\n",
      "conv2d_746 (Conv2D)             (None, 32, 32, 64)   36928       dropout_353[0][0]                \n",
      "__________________________________________________________________________________________________\n",
      "max_pooling2d_158 (MaxPooling2D (None, 16, 16, 64)   0           conv2d_746[0][0]                 \n",
      "__________________________________________________________________________________________________\n",
      "conv2d_747 (Conv2D)             (None, 16, 16, 128)  73856       max_pooling2d_158[0][0]          \n",
      "__________________________________________________________________________________________________\n",
      "dropout_354 (Dropout)           (None, 16, 16, 128)  0           conv2d_747[0][0]                 \n",
      "__________________________________________________________________________________________________\n",
      "conv2d_748 (Conv2D)             (None, 16, 16, 128)  147584      dropout_354[0][0]                \n",
      "__________________________________________________________________________________________________\n",
      "max_pooling2d_159 (MaxPooling2D (None, 8, 8, 128)    0           conv2d_748[0][0]                 \n",
      "__________________________________________________________________________________________________\n",
      "conv2d_749 (Conv2D)             (None, 8, 8, 256)    295168      max_pooling2d_159[0][0]          \n",
      "__________________________________________________________________________________________________\n",
      "dropout_355 (Dropout)           (None, 8, 8, 256)    0           conv2d_749[0][0]                 \n",
      "__________________________________________________________________________________________________\n",
      "conv2d_750 (Conv2D)             (None, 8, 8, 256)    590080      dropout_355[0][0]                \n",
      "__________________________________________________________________________________________________\n",
      "conv2d_transpose_156 (Conv2DTra (None, 16, 16, 128)  131200      conv2d_750[0][0]                 \n",
      "__________________________________________________________________________________________________\n",
      "concatenate_156 (Concatenate)   (None, 16, 16, 256)  0           conv2d_transpose_156[0][0]       \n",
      "                                                                 conv2d_748[0][0]                 \n",
      "__________________________________________________________________________________________________\n",
      "conv2d_751 (Conv2D)             (None, 16, 16, 128)  295040      concatenate_156[0][0]            \n",
      "__________________________________________________________________________________________________\n",
      "dropout_356 (Dropout)           (None, 16, 16, 128)  0           conv2d_751[0][0]                 \n",
      "__________________________________________________________________________________________________\n",
      "conv2d_752 (Conv2D)             (None, 16, 16, 128)  147584      dropout_356[0][0]                \n",
      "__________________________________________________________________________________________________\n",
      "conv2d_transpose_157 (Conv2DTra (None, 32, 32, 64)   32832       conv2d_752[0][0]                 \n",
      "__________________________________________________________________________________________________\n",
      "concatenate_157 (Concatenate)   (None, 32, 32, 128)  0           conv2d_transpose_157[0][0]       \n",
      "                                                                 conv2d_746[0][0]                 \n",
      "__________________________________________________________________________________________________\n",
      "conv2d_753 (Conv2D)             (None, 32, 32, 64)   73792       concatenate_157[0][0]            \n",
      "__________________________________________________________________________________________________\n",
      "dropout_357 (Dropout)           (None, 32, 32, 64)   0           conv2d_753[0][0]                 \n",
      "__________________________________________________________________________________________________\n",
      "conv2d_754 (Conv2D)             (None, 32, 32, 64)   36928       dropout_357[0][0]                \n",
      "__________________________________________________________________________________________________\n",
      "conv2d_transpose_158 (Conv2DTra (None, 64, 64, 32)   8224        conv2d_754[0][0]                 \n",
      "__________________________________________________________________________________________________\n",
      "concatenate_158 (Concatenate)   (None, 64, 64, 64)   0           conv2d_transpose_158[0][0]       \n",
      "                                                                 conv2d_744[0][0]                 \n",
      "__________________________________________________________________________________________________\n",
      "conv2d_755 (Conv2D)             (None, 64, 64, 32)   18464       concatenate_158[0][0]            \n",
      "__________________________________________________________________________________________________\n",
      "dropout_358 (Dropout)           (None, 64, 64, 32)   0           conv2d_755[0][0]                 \n",
      "__________________________________________________________________________________________________\n",
      "conv2d_756 (Conv2D)             (None, 64, 64, 32)   9248        dropout_358[0][0]                \n",
      "__________________________________________________________________________________________________\n",
      "conv2d_transpose_159 (Conv2DTra (None, 128, 128, 16) 2064        conv2d_756[0][0]                 \n",
      "__________________________________________________________________________________________________\n",
      "concatenate_159 (Concatenate)   (None, 128, 128, 32) 0           conv2d_transpose_159[0][0]       \n",
      "                                                                 conv2d_742[0][0]                 \n",
      "__________________________________________________________________________________________________\n",
      "conv2d_757 (Conv2D)             (None, 128, 128, 16) 4624        concatenate_159[0][0]            \n",
      "__________________________________________________________________________________________________\n",
      "dropout_359 (Dropout)           (None, 128, 128, 16) 0           conv2d_757[0][0]                 \n",
      "__________________________________________________________________________________________________\n",
      "conv2d_758 (Conv2D)             (None, 128, 128, 16) 2320        dropout_359[0][0]                \n",
      "__________________________________________________________________________________________________\n",
      "conv2d_759 (Conv2D)             (None, 128, 128, 1)  17          conv2d_758[0][0]                 \n",
      "==================================================================================================\n",
      "Total params: 1,940,817\n",
      "Trainable params: 1,940,817\n",
      "Non-trainable params: 0\n",
      "__________________________________________________________________________________________________\n"
     ]
    }
   ],
   "source": [
    "inputs = keras.Input(shape=(IMG_WIDTH, IMG_HEIGHT, 1), batch_size=None)\n",
    "\n",
    "# Hier werden Preprocessing-Schritte ausgeführt\n",
    "# s ist hier dann Differnzbild (Pixelraum_Fourier)\n",
    "s = Lambda(lambda x: x / 255)(inputs)\n",
    "\n",
    "\n",
    "# Contraction path\n",
    "c1 = Conv2D(\n",
    "    16, (3, 3), activation='relu', kernel_initializer='he_normal', padding='same')(s)\n",
    "c1 = Dropout(0.1)(c1)\n",
    "c1 = Conv2D(16, (3, 3), activation='relu',\n",
    "            kernel_initializer='he_normal', padding='same')(c1)\n",
    "p1 = MaxPooling2D((2, 2))(c1)\n",
    "\n",
    "c2 = Conv2D(32, (3, 3), activation='relu',\n",
    "            kernel_initializer='he_normal', padding='same')(p1)\n",
    "c2 = Dropout(0.1)(c2)\n",
    "c2 = Conv2D(32, (3, 3), activation='relu',\n",
    "            kernel_initializer='he_normal', padding='same')(c2)\n",
    "p2 = MaxPooling2D((2, 2))(c2)\n",
    "\n",
    "c3 = Conv2D(64, (3, 3), activation='relu',\n",
    "            kernel_initializer='he_normal', padding='same')(p2)\n",
    "c3 = Dropout(0.2)(c3)\n",
    "c3 = Conv2D(64, (3, 3), activation='relu',\n",
    "            kernel_initializer='he_normal', padding='same')(c3)\n",
    "p3 = MaxPooling2D((2, 2))(c3)\n",
    "\n",
    "c4 = Conv2D(128, (3, 3), activation='relu',\n",
    "            kernel_initializer='he_normal', padding='same')(p3)\n",
    "c4 = Dropout(0.2)(c4)\n",
    "c4 = Conv2D(128, (3, 3), activation='relu',\n",
    "            kernel_initializer='he_normal', padding='same')(c4)\n",
    "p4 = MaxPooling2D(pool_size=(2, 2))(c4)\n",
    "\n",
    "c5 = Conv2D(256, (3, 3), activation='relu',\n",
    "            kernel_initializer='he_normal', padding='same')(p4)\n",
    "c5 = Dropout(0.3)(c5)\n",
    "c5 = Conv2D(256, (3, 3), activation='relu',\n",
    "            kernel_initializer='he_normal', padding='same')(c5)\n",
    "\n",
    "# Expansive path\n",
    "u6 = Conv2DTranspose(\n",
    "    128, (2, 2), strides=(2, 2), padding='same')(c5)\n",
    "u6 = concatenate([u6, c4])\n",
    "c6 = Conv2D(128, (3, 3), activation='relu',\n",
    "            kernel_initializer='he_normal', padding='same')(u6)\n",
    "c6 = Dropout(0.2)(c6)\n",
    "c6 = Conv2D(128, (3, 3), activation='relu',\n",
    "            kernel_initializer='he_normal', padding='same')(c6)\n",
    "\n",
    "u7 = Conv2DTranspose(\n",
    "    64, (2, 2), strides=(2, 2), padding='same')(c6)\n",
    "u7 = concatenate([u7, c3])\n",
    "c7 = Conv2D(64, (3, 3), activation='relu',\n",
    "            kernel_initializer='he_normal', padding='same')(u7)\n",
    "c7 = Dropout(0.2)(c7)\n",
    "c7 = tf.keras.layers.Conv2D(64, (3, 3), activation='relu',\n",
    "                            kernel_initializer='he_normal', padding='same')(c7)\n",
    "\n",
    "u8 = tf.keras.layers.Conv2DTranspose(\n",
    "    32, (2, 2), strides=(2, 2), padding='same')(c7)\n",
    "u8 = tf.keras.layers.concatenate([u8, c2])\n",
    "c8 = tf.keras.layers.Conv2D(32, (3, 3), activation='relu',\n",
    "                            kernel_initializer='he_normal', padding='same')(u8)\n",
    "c8 = tf.keras.layers.Dropout(0.1)(c8)\n",
    "c8 = tf.keras.layers.Conv2D(32, (3, 3), activation='relu',\n",
    "                            kernel_initializer='he_normal', padding='same')(c8)\n",
    "\n",
    "u9 = tf.keras.layers.Conv2DTranspose(\n",
    "    16, (2, 2), strides=(2, 2), padding='same')(c8)\n",
    "u9 = tf.keras.layers.concatenate([u9, c1], axis=3)\n",
    "c9 = tf.keras.layers.Conv2D(16, (3, 3), activation='relu',\n",
    "                            kernel_initializer='he_normal', padding='same')(u9)\n",
    "c9 = tf.keras.layers.Dropout(0.1)(c9)\n",
    "c9 = tf.keras.layers.Conv2D(16, (3, 3), activation='relu',\n",
    "                            kernel_initializer='he_normal', padding='same')(c9)\n",
    "\n",
    "outputs = Conv2D(1, (1, 1), activation='sigmoid')(c9)\n",
    "\n",
    "model_u_net = tf.keras.Model(inputs=[inputs], outputs=[outputs])\n",
    "# model.compile(optimizer='adam', loss='binary_crossentropy',\n",
    "#               metrics=['accuracy'])\n",
    "model_u_net.summary()\n"
   ]
  },
  {
   "cell_type": "markdown",
   "metadata": {},
   "source": [
    "## Train Model"
   ]
  },
  {
   "cell_type": "code",
   "execution_count": 723,
   "metadata": {},
   "outputs": [],
   "source": [
    "# ppm: postprocessing model \n",
    "\n",
    "def create_postprocessing_model():\n",
    "\n",
    "    ppm_input_img_clean = tf.keras.Input(shape=(128,128, 3), batch_size=1)\n",
    "    ppm_input_img_filmed = tf.keras.Input(shape=(128,128, 3), batch_size=1)\n",
    "    ppm_input_unet_output = tf.keras.Input(shape=(128,128), batch_size=1)\n",
    "\n",
    "    ppm_input_img_clean_complex_r = tf.keras.Input(shape=(128,128), batch_size=1, dtype=tf.complex64)\n",
    "    ppm_input_img_clean_complex_g = tf.keras.Input(shape=(128,128), batch_size=1, dtype=tf.complex64)\n",
    "    ppm_input_img_clean_complex_b = tf.keras.Input(shape=(128,128), batch_size=1, dtype=tf.complex64)\n",
    "\n",
    "    ppm_input_img_filmed_complex_r = tf.keras.Input(shape=(128,128), batch_size=1, dtype=tf.complex64)\n",
    "    ppm_input_img_filmed_complex_g = tf.keras.Input(shape=(128,128), batch_size=1, dtype=tf.complex64)\n",
    "    ppm_input_img_filmed_complex_b = tf.keras.Input(shape=(128,128), batch_size=1, dtype=tf.complex64)\n",
    "\n",
    "\n",
    "\n",
    "    ones = tf.ones((128, 128))\n",
    "    zeros = tf.zeros((128, 128))\n",
    "    ones_t2c = tf.complex(ones, zeros)\n",
    "    u_net_output_t2c = tf.complex(ppm_input_unet_output, zeros)\n",
    "\n",
    "    # FORMEL: (1 - out) * clean + out * filmed\n",
    "    # out == mask \n",
    "    # t2c -> transfered to complex\n",
    "\n",
    "\n",
    "    def soft_blending(clean, filmed, ones_t2c=ones_t2c, u_net_output_t2c=u_net_output_t2c):\n",
    "        zw1 = tf.math.subtract(ones_t2c, u_net_output_t2c)\n",
    "        zw1 = tf.math.multiply(zw1, clean)\n",
    "\n",
    "        zw2 = tf.multiply(u_net_output_t2c, filmed)\n",
    "        return tf.math.add(zw1, zw2)\n",
    "\n",
    "\n",
    "    img_processed_complex_fourier_r = soft_blending(\n",
    "        ppm_input_img_clean_complex_r, ppm_input_img_filmed_complex_r)\n",
    "\n",
    "    img_processed_complex_fourier_g = soft_blending(\n",
    "        ppm_input_img_clean_complex_g, ppm_input_img_filmed_complex_g)\n",
    "\n",
    "    img_processed_complex_fourier_b = soft_blending(\n",
    "        ppm_input_img_clean_complex_b, ppm_input_img_filmed_complex_b)\n",
    "\n",
    "\n",
    "\n",
    "    # # img_processed_px_fourier = tf.math.log(                     # zum anschauen\n",
    "    # #     tf.math.abs(img_processed_complex_fourier_r))\n",
    "\n",
    "    # ----------- INVERSE FOURIER TRANSFORMATION -----------\n",
    "\n",
    "    img_processed_r = tf.signal.ifft2d(\n",
    "        img_processed_complex_fourier_r\n",
    "    )\n",
    "    img_processed_g = tf.signal.ifft2d(\n",
    "        img_processed_complex_fourier_g\n",
    "    )\n",
    "    img_processed_b = tf.signal.ifft2d(\n",
    "        img_processed_complex_fourier_b\n",
    "    )\n",
    "\n",
    "\n",
    "    # 3 Einzelkanäle zu einem RGB Bild\n",
    "    img_processed_r = tf.math.abs(img_processed_r)/255\n",
    "    img_processed_g = tf.math.abs(img_processed_g)/255\n",
    "    img_processed_b = tf.math.abs(img_processed_b)/255\n",
    "\n",
    "    img_processed_rgb = tf.stack(\n",
    "        [img_processed_r, img_processed_g, img_processed_b], axis=3)\n",
    "\n",
    "    postprocess_model = tf.keras.Model(inputs=[\n",
    "        ppm_input_img_clean, \n",
    "        ppm_input_img_filmed,\n",
    "        ppm_input_unet_output,\n",
    "        ppm_input_img_clean_complex_r ,\n",
    "        ppm_input_img_clean_complex_g ,\n",
    "        ppm_input_img_clean_complex_b ,\n",
    "        ppm_input_img_filmed_complex_r, \n",
    "        ppm_input_img_filmed_complex_g,\n",
    "        ppm_input_img_filmed_complex_b\n",
    "    ], outputs=[img_processed_rgb], name=\"postprocessing_model\")\n",
    "\n",
    "    # postprocess_model.summary()\n",
    "    return postprocess_model\n"
   ]
  },
  {
   "cell_type": "code",
   "execution_count": 724,
   "metadata": {},
   "outputs": [],
   "source": [
    "# def create_postprocessing_model():\n",
    "#     clean = tf.keras.Input(shape=(128, 128, 3), batch_size=1)\n",
    "#     darker = tf.math.multiply(clean, 3)\n",
    "\n",
    "#     postprocessing_model = tf.keras.Model(inputs=[clean], outputs=[darker])\n",
    "\n",
    "#     return postprocessing_model\n"
   ]
  },
  {
   "cell_type": "code",
   "execution_count": 725,
   "metadata": {},
   "outputs": [
    {
     "name": "stdout",
     "output_type": "stream",
     "text": [
      "Model: \"postprocessing_model\"\n",
      "__________________________________________________________________________________________________\n",
      "Layer (type)                    Output Shape         Param #     Connected to                     \n",
      "==================================================================================================\n",
      "input_394 (InputLayer)          [(1, 128, 128)]      0                                            \n",
      "__________________________________________________________________________________________________\n",
      "tf.dtypes.complex_39 (TFOpLambd (1, 128, 128)        0           input_394[0][0]                  \n",
      "__________________________________________________________________________________________________\n",
      "tf.math.subtract_117 (TFOpLambd (1, 128, 128)        0           tf.dtypes.complex_39[0][0]       \n",
      "__________________________________________________________________________________________________\n",
      "input_395 (InputLayer)          [(1, 128, 128)]      0                                            \n",
      "__________________________________________________________________________________________________\n",
      "input_398 (InputLayer)          [(1, 128, 128)]      0                                            \n",
      "__________________________________________________________________________________________________\n",
      "tf.math.subtract_118 (TFOpLambd (1, 128, 128)        0           tf.dtypes.complex_39[0][0]       \n",
      "__________________________________________________________________________________________________\n",
      "input_396 (InputLayer)          [(1, 128, 128)]      0                                            \n",
      "__________________________________________________________________________________________________\n",
      "input_399 (InputLayer)          [(1, 128, 128)]      0                                            \n",
      "__________________________________________________________________________________________________\n",
      "tf.math.subtract_119 (TFOpLambd (1, 128, 128)        0           tf.dtypes.complex_39[0][0]       \n",
      "__________________________________________________________________________________________________\n",
      "input_397 (InputLayer)          [(1, 128, 128)]      0                                            \n",
      "__________________________________________________________________________________________________\n",
      "input_400 (InputLayer)          [(1, 128, 128)]      0                                            \n",
      "__________________________________________________________________________________________________\n",
      "tf.math.multiply_234 (TFOpLambd (1, 128, 128)        0           tf.math.subtract_117[0][0]       \n",
      "                                                                 input_395[0][0]                  \n",
      "__________________________________________________________________________________________________\n",
      "tf.math.multiply_235 (TFOpLambd (1, 128, 128)        0           tf.dtypes.complex_39[0][0]       \n",
      "                                                                 input_398[0][0]                  \n",
      "__________________________________________________________________________________________________\n",
      "tf.math.multiply_236 (TFOpLambd (1, 128, 128)        0           tf.math.subtract_118[0][0]       \n",
      "                                                                 input_396[0][0]                  \n",
      "__________________________________________________________________________________________________\n",
      "tf.math.multiply_237 (TFOpLambd (1, 128, 128)        0           tf.dtypes.complex_39[0][0]       \n",
      "                                                                 input_399[0][0]                  \n",
      "__________________________________________________________________________________________________\n",
      "tf.math.multiply_238 (TFOpLambd (1, 128, 128)        0           tf.math.subtract_119[0][0]       \n",
      "                                                                 input_397[0][0]                  \n",
      "__________________________________________________________________________________________________\n",
      "tf.math.multiply_239 (TFOpLambd (1, 128, 128)        0           tf.dtypes.complex_39[0][0]       \n",
      "                                                                 input_400[0][0]                  \n",
      "__________________________________________________________________________________________________\n",
      "tf.math.add_117 (TFOpLambda)    (1, 128, 128)        0           tf.math.multiply_234[0][0]       \n",
      "                                                                 tf.math.multiply_235[0][0]       \n",
      "__________________________________________________________________________________________________\n",
      "tf.math.add_118 (TFOpLambda)    (1, 128, 128)        0           tf.math.multiply_236[0][0]       \n",
      "                                                                 tf.math.multiply_237[0][0]       \n",
      "__________________________________________________________________________________________________\n",
      "tf.math.add_119 (TFOpLambda)    (1, 128, 128)        0           tf.math.multiply_238[0][0]       \n",
      "                                                                 tf.math.multiply_239[0][0]       \n",
      "__________________________________________________________________________________________________\n",
      "tf.signal.ifft2d_117 (TFOpLambd (1, 128, 128)        0           tf.math.add_117[0][0]            \n",
      "__________________________________________________________________________________________________\n",
      "tf.signal.ifft2d_118 (TFOpLambd (1, 128, 128)        0           tf.math.add_118[0][0]            \n",
      "__________________________________________________________________________________________________\n",
      "tf.signal.ifft2d_119 (TFOpLambd (1, 128, 128)        0           tf.math.add_119[0][0]            \n",
      "__________________________________________________________________________________________________\n",
      "tf.math.abs_117 (TFOpLambda)    (1, 128, 128)        0           tf.signal.ifft2d_117[0][0]       \n",
      "__________________________________________________________________________________________________\n",
      "tf.math.abs_118 (TFOpLambda)    (1, 128, 128)        0           tf.signal.ifft2d_118[0][0]       \n",
      "__________________________________________________________________________________________________\n",
      "tf.math.abs_119 (TFOpLambda)    (1, 128, 128)        0           tf.signal.ifft2d_119[0][0]       \n",
      "__________________________________________________________________________________________________\n",
      "tf.math.truediv_117 (TFOpLambda (1, 128, 128)        0           tf.math.abs_117[0][0]            \n",
      "__________________________________________________________________________________________________\n",
      "tf.math.truediv_118 (TFOpLambda (1, 128, 128)        0           tf.math.abs_118[0][0]            \n",
      "__________________________________________________________________________________________________\n",
      "tf.math.truediv_119 (TFOpLambda (1, 128, 128)        0           tf.math.abs_119[0][0]            \n",
      "__________________________________________________________________________________________________\n",
      "input_392 (InputLayer)          [(1, 128, 128, 3)]   0                                            \n",
      "__________________________________________________________________________________________________\n",
      "input_393 (InputLayer)          [(1, 128, 128, 3)]   0                                            \n",
      "__________________________________________________________________________________________________\n",
      "tf.stack_39 (TFOpLambda)        (1, 128, 128, 3)     0           tf.math.truediv_117[0][0]        \n",
      "                                                                 tf.math.truediv_118[0][0]        \n",
      "                                                                 tf.math.truediv_119[0][0]        \n",
      "==================================================================================================\n",
      "Total params: 0\n",
      "Trainable params: 0\n",
      "Non-trainable params: 0\n",
      "__________________________________________________________________________________________________\n"
     ]
    }
   ],
   "source": [
    "postprocessing_model = create_postprocessing_model()\n",
    "postprocessing_model.summary()\n"
   ]
  },
  {
   "cell_type": "markdown",
   "metadata": {},
   "source": [
    "## Custom Train loop\n"
   ]
  },
  {
   "cell_type": "code",
   "execution_count": 726,
   "metadata": {},
   "outputs": [],
   "source": [
    "\n",
    "def calc_mean_alias_value_of_one_image(x_filmed, x_clean):\n",
    "    # print(\"betrete calc_mean_aias_value_of_one_image\")\n",
    "\n",
    "    # print(\"x_filmed: \")\n",
    "    # plt.imshow(x_filmed)\n",
    "    # plt.show()\n",
    "    # print(\"x_clean: \")\n",
    "    # plt.imshow(x_clean)\n",
    "    # plt.show()\n",
    "\n",
    "\n",
    "    fourier_handler = Fourier_Images(x_filmed, x_clean)\n",
    "\n",
    "    img_filmed_r, img_filmed_g, img_filmed_b = fourier_handler.split_RGB_2_Grayscale(\n",
    "        x_filmed)\n",
    "    img_clean_r, img_clean_g, img_clean_b = fourier_handler.split_RGB_2_Grayscale(\n",
    "        x_clean)\n",
    "\n",
    "    img_filmed_complex_r = fourier_handler.grayscale_2_Fourier(\n",
    "        img_filmed_r)\n",
    "    img_filmed_complex_g = fourier_handler.grayscale_2_Fourier(\n",
    "        img_filmed_g)\n",
    "    img_filmed_complex_b = fourier_handler.grayscale_2_Fourier(\n",
    "        img_filmed_b)\n",
    "\n",
    "    img_clean_complex_r = fourier_handler.grayscale_2_Fourier(\n",
    "        img_clean_r)\n",
    "    img_clean_complex_g = fourier_handler.grayscale_2_Fourier(\n",
    "        img_clean_g)\n",
    "    img_clean_complex_b = fourier_handler.grayscale_2_Fourier(\n",
    "        img_clean_b)\n",
    "\n",
    "\n",
    "    x_filmed_fourier_px, x_clean_fourier_px, differenzbild_fourier_px, img_filmed_fourier_combined, img_clean_fourier_combined = fourier_handler.generate_mask_from_images()\n",
    "    # plt.imsave(\".\\\\tmp\\\\img_filmed_fourier_combined.png\",\n",
    "    #            img_filmed_fourier_combined, cmap=\"gray\")\n",
    "    # plt.imsave(\".\\\\tmp\\\\img_clean_fourier_combined.png\",\n",
    "    #            img_clean_fourier_combined, cmap=\"gray\")\n",
    "    if show_intermediate_pics:\n",
    "        print(\"differenzbild_fourier_px: \")\n",
    "        # print(differenzbild_fourier_px)\n",
    "        plt.imshow(differenzbild_fourier_px, cmap=\"gray\")\n",
    "        plt.show()\n",
    "\n",
    "    differenzbild_fourier_px = differenzbild_fourier_px.reshape(\n",
    "        1, IMG_WIDTH, IMG_HEIGHT, 1)    \n",
    "\n",
    "\n",
    "\n",
    "    del(fourier_handler)\n",
    "\n",
    "\n",
    "\n",
    "    # ----------- HIER STARTET U-NET-MODEL -----------\n",
    "\n",
    "    u_net_output = execute_UNet_model(\n",
    "        differenzbild_fourier_px, training=True)\n",
    "\n",
    "\n",
    "    # print(\"u_net_output: \")\n",
    "    # print(u_net_output)\n",
    "\n",
    "    # ----------- ALPHA-BLENDING -----------\n",
    "\n",
    "\n",
    "    # CASTING IST NICHT ABLEITBAR - KANN MAN NICHT VERWENDEN!!\n",
    "    # u_net_output = tf.cast(u_net_output, tf.int32)\n",
    "    # u_net_output = tf.cast(u_net_output, tf.bool)\n",
    "\n",
    "    # FORMEL: (1 - out) * clean + out * filmed\n",
    "    # t2c -> transfered to complex\n",
    "\n",
    "\n",
    "    if show_intermediate_pics:\n",
    "        print(\"x_clean: \")\n",
    "        plt.imshow(x_clean)\n",
    "        plt.show()\n",
    "\n",
    "        print(\"x_filmed: \")\n",
    "        plt.imshow(x_filmed)\n",
    "        plt.show()\n",
    "\n",
    "    x_clean = x_clean.reshape((1, IMG_WIDTH, IMG_HEIGHT, 3))\n",
    "    x_filmed = x_filmed.reshape((1, IMG_WIDTH, IMG_HEIGHT, 3))\n",
    "\n",
    "\n",
    "\n",
    "    u_net_output = tf.reshape(\n",
    "        u_net_output, shape=(IMG_WIDTH, IMG_HEIGHT))\n",
    "\n",
    "    img_clean_complex_r = img_clean_complex_r.reshape((1, IMG_WIDTH, IMG_HEIGHT, 1))\n",
    "    img_clean_complex_g = img_clean_complex_g.reshape((1, IMG_WIDTH, IMG_HEIGHT, 1))\n",
    "    img_clean_complex_b = img_clean_complex_b.reshape((1, IMG_WIDTH, IMG_HEIGHT, 1))\n",
    "    img_filmed_complex_r = img_filmed_complex_r.reshape((1, IMG_WIDTH, IMG_HEIGHT, 1))\n",
    "    img_filmed_complex_g = img_filmed_complex_g.reshape((1, IMG_WIDTH, IMG_HEIGHT, 1))\n",
    "    img_filmed_complex_b = img_filmed_complex_b.reshape((1, IMG_WIDTH, IMG_HEIGHT, 1))\n",
    "\n",
    "    # ------------ postprocessing Model aufrufen --------\n",
    "\n",
    "    image_processed_rgb = execute_postprocessing_model([\n",
    "        x_clean ,\n",
    "        x_filmed ,\n",
    "        u_net_output,\n",
    "        img_clean_complex_r ,\n",
    "        img_clean_complex_g ,\n",
    "        img_clean_complex_b ,\n",
    "        img_filmed_complex_r ,\n",
    "        img_filmed_complex_g ,\n",
    "        img_filmed_complex_b ,\n",
    "    ])\n",
    "\n",
    "\n",
    "    \n",
    "\n",
    "\n",
    "    if show_intermediate_pics:\n",
    "        print(\"image_processed_rgb: \")\n",
    "        # print(np.array(image_processed_rgb).reshape(IMG_HEIGHT, IMG_WIDTH, 3))\n",
    "        plt.imshow(np.array(image_processed_rgb).reshape(\n",
    "            IMG_HEIGHT, IMG_WIDTH, 3))\n",
    "        plt.show()\n",
    "\n",
    "\n",
    "    # ----------- Feed multiple Buckets in CNN for predicting amount of alias -----------\n",
    "\n",
    "    def create_multiple_buckets_to_feed_them_into_CNN(tensor):\n",
    "\n",
    "        BATCH_SIZE_CNN = 1\n",
    "        NUM_BOXES = 30\n",
    "        CROP_SIZE = (60, 60)\n",
    "\n",
    "        boxes = tf.random.uniform(shape=(NUM_BOXES, 4))\n",
    "        box_indices = tf.random.uniform(shape=(NUM_BOXES,), minval=0,\n",
    "                                        maxval=BATCH_SIZE_CNN, dtype=tf.int32)\n",
    "        \n",
    "        output = tf.image.crop_and_resize(\n",
    "            tensor, boxes, box_indices, CROP_SIZE)\n",
    "        return output\n",
    "\n",
    "    cnn_input = create_multiple_buckets_to_feed_them_into_CNN(image_processed_rgb)\n",
    "\n",
    "    # print(\"cnn_input: \")\n",
    "    # print(cnn_input)\n",
    "\n",
    "\n",
    "\n",
    "    # ------- Make prediction --------\n",
    "\n",
    "    y_pred = execute_cnn_model(cnn_input)\n",
    "\n",
    "    y_pred = tf.math.reduce_mean(\n",
    "        y_pred, keepdims=True\n",
    "    )\n",
    "\n",
    "    # print(\"Ende von calc_mean_aias_value_of_one_image:\")\n",
    "    # print(\"y_pred: \")\n",
    "    # print(y_pred)\n",
    "\n",
    "    return y_pred, differenzbild_fourier_px, u_net_output, image_processed_rgb\n"
   ]
  },
  {
   "cell_type": "code",
   "execution_count": 727,
   "metadata": {},
   "outputs": [
    {
     "name": "stdout",
     "output_type": "stream",
     "text": [
      "Start of epoch 0\n"
     ]
    },
    {
     "name": "stderr",
     "output_type": "stream",
     "text": [
      "training...:   0%|                                  | 0/32 [00:00<?, ?it/s]"
     ]
    },
    {
     "name": "stdout",
     "output_type": "stream",
     "text": [
      "next batch...\n",
      "WARNING:tensorflow:Model was constructed with shape (1, 128, 128) for input KerasTensor(type_spec=TensorSpec(shape=(1, 128, 128), dtype=tf.float32, name='input_394'), name='input_394', description=\"created by layer 'input_394'\"), but it was called on an input with incompatible shape (128, 128).\n",
      "cnn_mean_prediction_values.shape: \n",
      "(32, 1, 1)\n"
     ]
    },
    {
     "name": "stderr",
     "output_type": "stream",
     "text": [
      "training...:   3%|▊                         | 1/32 [00:40<20:58, 40.60s/it]"
     ]
    },
    {
     "name": "stdout",
     "output_type": "stream",
     "text": [
      "--------------- epoch_loss: 0.1877157986164093\n",
      "next batch...\n",
      "cnn_mean_prediction_values.shape: \n",
      "(32, 1, 1)\n"
     ]
    },
    {
     "name": "stderr",
     "output_type": "stream",
     "text": [
      "training...:   6%|█▋                        | 2/32 [01:23<20:55, 41.84s/it]"
     ]
    },
    {
     "name": "stdout",
     "output_type": "stream",
     "text": [
      "--------------- epoch_loss: 0.2320530265569687\n",
      "next batch...\n",
      "cnn_mean_prediction_values.shape: \n",
      "(32, 1, 1)\n"
     ]
    },
    {
     "name": "stderr",
     "output_type": "stream",
     "text": [
      "training...:   9%|██▍                       | 3/32 [02:05<20:13, 41.84s/it]"
     ]
    },
    {
     "name": "stdout",
     "output_type": "stream",
     "text": [
      "--------------- epoch_loss: 0.1947370171546936\n",
      "next batch...\n"
     ]
    },
    {
     "name": "stderr",
     "output_type": "stream",
     "text": [
      "training...:   9%|██▍                       | 3/32 [02:07<20:30, 42.44s/it]\n"
     ]
    },
    {
     "name": "stdout",
     "output_type": "stream",
     "text": [
      "------------------------Am Ende angelangt, gehe in neue Epoche\n",
      "Start of epoch 1\n"
     ]
    },
    {
     "name": "stderr",
     "output_type": "stream",
     "text": [
      "training...:   0%|                                  | 0/32 [00:00<?, ?it/s]"
     ]
    },
    {
     "name": "stdout",
     "output_type": "stream",
     "text": [
      "next batch...\n",
      "cnn_mean_prediction_values.shape: \n",
      "(32, 1, 1)\n"
     ]
    },
    {
     "name": "stderr",
     "output_type": "stream",
     "text": [
      "training...:   3%|▊                         | 1/32 [00:39<20:12, 39.11s/it]"
     ]
    },
    {
     "name": "stdout",
     "output_type": "stream",
     "text": [
      "--------------- epoch_loss: 0.18490536510944366\n",
      "next batch...\n",
      "cnn_mean_prediction_values.shape: \n",
      "(32, 1, 1)\n"
     ]
    },
    {
     "name": "stderr",
     "output_type": "stream",
     "text": [
      "training...:   6%|█▋                        | 2/32 [01:18<19:31, 39.04s/it]"
     ]
    },
    {
     "name": "stdout",
     "output_type": "stream",
     "text": [
      "--------------- epoch_loss: 0.17968514561653137\n",
      "next batch...\n",
      "cnn_mean_prediction_values.shape: \n",
      "(32, 1, 1)\n"
     ]
    },
    {
     "name": "stderr",
     "output_type": "stream",
     "text": [
      "training...:   9%|██▍                       | 3/32 [01:57<18:55, 39.15s/it]"
     ]
    },
    {
     "name": "stdout",
     "output_type": "stream",
     "text": [
      "--------------- epoch_loss: 0.16602391004562378\n",
      "next batch...\n"
     ]
    },
    {
     "name": "stderr",
     "output_type": "stream",
     "text": [
      "training...:   9%|██▍                       | 3/32 [01:59<19:10, 39.67s/it]\n"
     ]
    },
    {
     "name": "stdout",
     "output_type": "stream",
     "text": [
      "------------------------Am Ende angelangt, gehe in neue Epoche\n",
      "Start of epoch 2\n"
     ]
    },
    {
     "name": "stderr",
     "output_type": "stream",
     "text": [
      "training...:   0%|                                  | 0/32 [00:00<?, ?it/s]"
     ]
    },
    {
     "name": "stdout",
     "output_type": "stream",
     "text": [
      "next batch...\n",
      "cnn_mean_prediction_values.shape: \n",
      "(32, 1, 1)\n"
     ]
    },
    {
     "name": "stderr",
     "output_type": "stream",
     "text": [
      "training...:   3%|▊                         | 1/32 [00:38<20:07, 38.94s/it]"
     ]
    },
    {
     "name": "stdout",
     "output_type": "stream",
     "text": [
      "--------------- epoch_loss: 0.15996205806732178\n",
      "next batch...\n",
      "cnn_mean_prediction_values.shape: \n",
      "(32, 1, 1)\n"
     ]
    },
    {
     "name": "stderr",
     "output_type": "stream",
     "text": [
      "training...:   6%|█▋                        | 2/32 [01:17<19:28, 38.95s/it]"
     ]
    },
    {
     "name": "stdout",
     "output_type": "stream",
     "text": [
      "--------------- epoch_loss: 0.15648908913135529\n",
      "next batch...\n",
      "cnn_mean_prediction_values.shape: \n",
      "(32, 1, 1)\n"
     ]
    },
    {
     "name": "stderr",
     "output_type": "stream",
     "text": [
      "training...:   9%|██▍                       | 3/32 [01:56<18:47, 38.90s/it]"
     ]
    },
    {
     "name": "stdout",
     "output_type": "stream",
     "text": [
      "--------------- epoch_loss: 0.1500517874956131\n",
      "next batch...\n"
     ]
    },
    {
     "name": "stderr",
     "output_type": "stream",
     "text": [
      "training...:   9%|██▍                       | 3/32 [01:58<19:04, 39.46s/it]\n"
     ]
    },
    {
     "name": "stdout",
     "output_type": "stream",
     "text": [
      "------------------------Am Ende angelangt, gehe in neue Epoche\n",
      "Start of epoch 3\n"
     ]
    },
    {
     "name": "stderr",
     "output_type": "stream",
     "text": [
      "training...:   0%|                                  | 0/32 [00:00<?, ?it/s]"
     ]
    },
    {
     "name": "stdout",
     "output_type": "stream",
     "text": [
      "next batch...\n",
      "cnn_mean_prediction_values.shape: \n",
      "(32, 1, 1)\n"
     ]
    },
    {
     "name": "stderr",
     "output_type": "stream",
     "text": [
      "training...:   3%|▊                         | 1/32 [00:39<20:17, 39.26s/it]"
     ]
    },
    {
     "name": "stdout",
     "output_type": "stream",
     "text": [
      "--------------- epoch_loss: 0.14458820223808289\n",
      "next batch...\n",
      "cnn_mean_prediction_values.shape: \n",
      "(32, 1, 1)\n"
     ]
    },
    {
     "name": "stderr",
     "output_type": "stream",
     "text": [
      "training...:   6%|█▋                        | 2/32 [01:17<19:25, 38.84s/it]"
     ]
    },
    {
     "name": "stdout",
     "output_type": "stream",
     "text": [
      "--------------- epoch_loss: 0.13556121289730072\n",
      "next batch...\n",
      "cnn_mean_prediction_values.shape: \n",
      "(32, 1, 1)\n"
     ]
    },
    {
     "name": "stderr",
     "output_type": "stream",
     "text": [
      "training...:   9%|██▍                       | 3/32 [01:56<18:41, 38.69s/it]"
     ]
    },
    {
     "name": "stdout",
     "output_type": "stream",
     "text": [
      "--------------- epoch_loss: 0.12614379823207855\n",
      "next batch...\n"
     ]
    },
    {
     "name": "stderr",
     "output_type": "stream",
     "text": [
      "training...:   9%|██▍                       | 3/32 [01:57<19:00, 39.33s/it]\n"
     ]
    },
    {
     "name": "stdout",
     "output_type": "stream",
     "text": [
      "------------------------Am Ende angelangt, gehe in neue Epoche\n",
      "Start of epoch 4\n"
     ]
    },
    {
     "name": "stderr",
     "output_type": "stream",
     "text": [
      "training...:   0%|                                  | 0/32 [00:00<?, ?it/s]"
     ]
    },
    {
     "name": "stdout",
     "output_type": "stream",
     "text": [
      "next batch...\n",
      "cnn_mean_prediction_values.shape: \n",
      "(32, 1, 1)\n"
     ]
    },
    {
     "name": "stderr",
     "output_type": "stream",
     "text": [
      "training...:   3%|▊                         | 1/32 [00:39<20:09, 39.01s/it]"
     ]
    },
    {
     "name": "stdout",
     "output_type": "stream",
     "text": [
      "--------------- epoch_loss: 0.11701855063438416\n",
      "next batch...\n",
      "cnn_mean_prediction_values.shape: \n",
      "(32, 1, 1)\n"
     ]
    },
    {
     "name": "stderr",
     "output_type": "stream",
     "text": [
      "training...:   6%|█▋                        | 2/32 [01:17<19:27, 38.93s/it]"
     ]
    },
    {
     "name": "stdout",
     "output_type": "stream",
     "text": [
      "--------------- epoch_loss: 0.11009073257446289\n",
      "next batch...\n",
      "cnn_mean_prediction_values.shape: \n",
      "(32, 1, 1)\n"
     ]
    },
    {
     "name": "stderr",
     "output_type": "stream",
     "text": [
      "training...:   9%|██▍                       | 3/32 [01:56<18:44, 38.78s/it]"
     ]
    },
    {
     "name": "stdout",
     "output_type": "stream",
     "text": [
      "--------------- epoch_loss: 0.10328672081232071\n",
      "next batch...\n"
     ]
    },
    {
     "name": "stderr",
     "output_type": "stream",
     "text": [
      "training...:   9%|██▍                       | 3/32 [01:58<19:02, 39.39s/it]\n"
     ]
    },
    {
     "name": "stdout",
     "output_type": "stream",
     "text": [
      "------------------------Am Ende angelangt, gehe in neue Epoche\n",
      "Start of epoch 5\n"
     ]
    },
    {
     "name": "stderr",
     "output_type": "stream",
     "text": [
      "training...:   0%|                                  | 0/32 [00:00<?, ?it/s]"
     ]
    },
    {
     "name": "stdout",
     "output_type": "stream",
     "text": [
      "next batch...\n",
      "cnn_mean_prediction_values.shape: \n",
      "(32, 1, 1)\n"
     ]
    },
    {
     "name": "stderr",
     "output_type": "stream",
     "text": [
      "training...:   3%|▊                         | 1/32 [00:39<20:37, 39.91s/it]"
     ]
    },
    {
     "name": "stdout",
     "output_type": "stream",
     "text": [
      "--------------- epoch_loss: 0.09712711721658707\n",
      "next batch...\n",
      "cnn_mean_prediction_values.shape: \n",
      "(32, 1, 1)\n"
     ]
    },
    {
     "name": "stderr",
     "output_type": "stream",
     "text": [
      "training...:   6%|█▋                        | 2/32 [01:18<19:33, 39.12s/it]"
     ]
    },
    {
     "name": "stdout",
     "output_type": "stream",
     "text": [
      "--------------- epoch_loss: 0.09192581474781036\n",
      "next batch...\n",
      "cnn_mean_prediction_values.shape: \n",
      "(32, 1, 1)\n"
     ]
    },
    {
     "name": "stderr",
     "output_type": "stream",
     "text": [
      "training...:   9%|██▍                       | 3/32 [01:57<18:49, 38.93s/it]"
     ]
    },
    {
     "name": "stdout",
     "output_type": "stream",
     "text": [
      "--------------- epoch_loss: 0.08705170452594757\n",
      "next batch...\n"
     ]
    },
    {
     "name": "stderr",
     "output_type": "stream",
     "text": [
      "training...:   9%|██▍                       | 3/32 [01:58<19:10, 39.66s/it]\n"
     ]
    },
    {
     "name": "stdout",
     "output_type": "stream",
     "text": [
      "------------------------Am Ende angelangt, gehe in neue Epoche\n",
      "Start of epoch 6\n"
     ]
    },
    {
     "name": "stderr",
     "output_type": "stream",
     "text": [
      "training...:   0%|                                  | 0/32 [00:00<?, ?it/s]"
     ]
    },
    {
     "name": "stdout",
     "output_type": "stream",
     "text": [
      "next batch...\n",
      "cnn_mean_prediction_values.shape: \n",
      "(32, 1, 1)\n"
     ]
    },
    {
     "name": "stderr",
     "output_type": "stream",
     "text": [
      "training...:   3%|▊                         | 1/32 [00:38<20:06, 38.93s/it]"
     ]
    },
    {
     "name": "stdout",
     "output_type": "stream",
     "text": [
      "--------------- epoch_loss: 0.08255166560411453\n",
      "next batch...\n",
      "cnn_mean_prediction_values.shape: \n",
      "(32, 1, 1)\n"
     ]
    },
    {
     "name": "stderr",
     "output_type": "stream",
     "text": [
      "training...:   6%|█▋                        | 2/32 [01:17<19:25, 38.85s/it]"
     ]
    },
    {
     "name": "stdout",
     "output_type": "stream",
     "text": [
      "--------------- epoch_loss: 0.07855840027332306\n",
      "next batch...\n",
      "cnn_mean_prediction_values.shape: \n",
      "(32, 1, 1)\n"
     ]
    },
    {
     "name": "stderr",
     "output_type": "stream",
     "text": [
      "training...:   9%|██▍                       | 3/32 [01:59<19:20, 40.03s/it]"
     ]
    },
    {
     "name": "stdout",
     "output_type": "stream",
     "text": [
      "--------------- epoch_loss: 0.07495899498462677\n",
      "next batch...\n"
     ]
    },
    {
     "name": "stderr",
     "output_type": "stream",
     "text": [
      "training...:   9%|██▍                       | 3/32 [02:00<19:28, 40.30s/it]\n"
     ]
    },
    {
     "name": "stdout",
     "output_type": "stream",
     "text": [
      "------------------------Am Ende angelangt, gehe in neue Epoche\n",
      "Start of epoch 7\n"
     ]
    },
    {
     "name": "stderr",
     "output_type": "stream",
     "text": [
      "training...:   0%|                                  | 0/32 [00:00<?, ?it/s]"
     ]
    },
    {
     "name": "stdout",
     "output_type": "stream",
     "text": [
      "next batch...\n",
      "cnn_mean_prediction_values.shape: \n",
      "(32, 1, 1)\n"
     ]
    },
    {
     "name": "stderr",
     "output_type": "stream",
     "text": [
      "training...:   3%|▊                         | 1/32 [00:42<21:47, 42.19s/it]"
     ]
    },
    {
     "name": "stdout",
     "output_type": "stream",
     "text": [
      "--------------- epoch_loss: 0.071656234562397\n",
      "next batch...\n",
      "cnn_mean_prediction_values.shape: \n",
      "(32, 1, 1)\n"
     ]
    },
    {
     "name": "stderr",
     "output_type": "stream",
     "text": [
      "training...:   6%|█▋                        | 2/32 [01:23<20:55, 41.86s/it]"
     ]
    },
    {
     "name": "stdout",
     "output_type": "stream",
     "text": [
      "--------------- epoch_loss: 0.06857957690954208\n",
      "next batch...\n",
      "cnn_mean_prediction_values.shape: \n",
      "(32, 1, 1)\n"
     ]
    },
    {
     "name": "stderr",
     "output_type": "stream",
     "text": [
      "training...:   9%|██▍                       | 3/32 [02:05<20:11, 41.77s/it]"
     ]
    },
    {
     "name": "stdout",
     "output_type": "stream",
     "text": [
      "--------------- epoch_loss: 0.06573917716741562\n",
      "next batch...\n"
     ]
    },
    {
     "name": "stderr",
     "output_type": "stream",
     "text": [
      "training...:   9%|██▍                       | 3/32 [02:07<20:29, 42.40s/it]\n"
     ]
    },
    {
     "name": "stdout",
     "output_type": "stream",
     "text": [
      "------------------------Am Ende angelangt, gehe in neue Epoche\n",
      "Start of epoch 8\n"
     ]
    },
    {
     "name": "stderr",
     "output_type": "stream",
     "text": [
      "training...:   0%|                                  | 0/32 [00:00<?, ?it/s]"
     ]
    },
    {
     "name": "stdout",
     "output_type": "stream",
     "text": [
      "next batch...\n",
      "cnn_mean_prediction_values.shape: \n",
      "(32, 1, 1)\n"
     ]
    },
    {
     "name": "stderr",
     "output_type": "stream",
     "text": [
      "training...:   3%|▊                         | 1/32 [00:41<21:26, 41.50s/it]"
     ]
    },
    {
     "name": "stdout",
     "output_type": "stream",
     "text": [
      "--------------- epoch_loss: 0.06320249289274216\n",
      "next batch...\n",
      "cnn_mean_prediction_values.shape: \n",
      "(32, 1, 1)\n"
     ]
    },
    {
     "name": "stderr",
     "output_type": "stream",
     "text": [
      "training...:   6%|█▋                        | 2/32 [01:23<20:54, 41.83s/it]"
     ]
    },
    {
     "name": "stdout",
     "output_type": "stream",
     "text": [
      "--------------- epoch_loss: 0.06094885617494583\n",
      "next batch...\n",
      "cnn_mean_prediction_values.shape: \n",
      "(32, 1, 1)\n"
     ]
    },
    {
     "name": "stderr",
     "output_type": "stream",
     "text": [
      "training...:   9%|██▍                       | 3/32 [02:05<20:08, 41.68s/it]"
     ]
    },
    {
     "name": "stdout",
     "output_type": "stream",
     "text": [
      "--------------- epoch_loss: 0.058876607567071915\n",
      "next batch...\n"
     ]
    },
    {
     "name": "stderr",
     "output_type": "stream",
     "text": [
      "training...:   9%|██▍                       | 3/32 [02:06<20:25, 42.27s/it]\n"
     ]
    },
    {
     "name": "stdout",
     "output_type": "stream",
     "text": [
      "------------------------Am Ende angelangt, gehe in neue Epoche\n",
      "Start of epoch 9\n"
     ]
    },
    {
     "name": "stderr",
     "output_type": "stream",
     "text": [
      "training...:   0%|                                  | 0/32 [00:00<?, ?it/s]"
     ]
    },
    {
     "name": "stdout",
     "output_type": "stream",
     "text": [
      "next batch...\n",
      "cnn_mean_prediction_values.shape: \n",
      "(32, 1, 1)\n"
     ]
    },
    {
     "name": "stderr",
     "output_type": "stream",
     "text": [
      "training...:   3%|▊                         | 1/32 [00:42<21:42, 42.00s/it]"
     ]
    },
    {
     "name": "stdout",
     "output_type": "stream",
     "text": [
      "--------------- epoch_loss: 0.07108059525489807\n",
      "next batch...\n",
      "cnn_mean_prediction_values.shape: \n",
      "(32, 1, 1)\n"
     ]
    },
    {
     "name": "stderr",
     "output_type": "stream",
     "text": [
      "training...:   6%|█▋                        | 2/32 [01:23<20:50, 41.69s/it]"
     ]
    },
    {
     "name": "stdout",
     "output_type": "stream",
     "text": [
      "--------------- epoch_loss: 0.07282759249210358\n",
      "next batch...\n",
      "cnn_mean_prediction_values.shape: \n",
      "(32, 1, 1)\n"
     ]
    },
    {
     "name": "stderr",
     "output_type": "stream",
     "text": [
      "training...:   9%|██▍                       | 3/32 [02:05<20:10, 41.74s/it]"
     ]
    },
    {
     "name": "stdout",
     "output_type": "stream",
     "text": [
      "--------------- epoch_loss: 0.07128407061100006\n",
      "next batch...\n"
     ]
    },
    {
     "name": "stderr",
     "output_type": "stream",
     "text": [
      "training...:   9%|██▍                       | 3/32 [02:07<20:27, 42.34s/it]\n"
     ]
    },
    {
     "name": "stdout",
     "output_type": "stream",
     "text": [
      "------------------------Am Ende angelangt, gehe in neue Epoche\n",
      "Start of epoch 10\n"
     ]
    },
    {
     "name": "stderr",
     "output_type": "stream",
     "text": [
      "training...:   0%|                                  | 0/32 [00:00<?, ?it/s]"
     ]
    },
    {
     "name": "stdout",
     "output_type": "stream",
     "text": [
      "next batch...\n",
      "cnn_mean_prediction_values.shape: \n",
      "(32, 1, 1)\n"
     ]
    },
    {
     "name": "stderr",
     "output_type": "stream",
     "text": [
      "training...:   3%|▊                         | 1/32 [00:41<21:37, 41.87s/it]"
     ]
    },
    {
     "name": "stdout",
     "output_type": "stream",
     "text": [
      "--------------- epoch_loss: 0.06988238543272018\n",
      "next batch...\n",
      "cnn_mean_prediction_values.shape: \n",
      "(32, 1, 1)\n"
     ]
    },
    {
     "name": "stderr",
     "output_type": "stream",
     "text": [
      "training...:   6%|█▋                        | 2/32 [01:23<20:51, 41.71s/it]"
     ]
    },
    {
     "name": "stdout",
     "output_type": "stream",
     "text": [
      "--------------- epoch_loss: 0.06852805614471436\n",
      "next batch...\n",
      "cnn_mean_prediction_values.shape: \n",
      "(32, 1, 1)\n"
     ]
    },
    {
     "name": "stderr",
     "output_type": "stream",
     "text": [
      "training...:   9%|██▍                       | 3/32 [02:04<20:03, 41.52s/it]"
     ]
    },
    {
     "name": "stdout",
     "output_type": "stream",
     "text": [
      "--------------- epoch_loss: 0.06725845485925674\n",
      "next batch...\n"
     ]
    },
    {
     "name": "stderr",
     "output_type": "stream",
     "text": [
      "training...:   9%|██▍                       | 3/32 [02:06<20:22, 42.17s/it]\n"
     ]
    },
    {
     "name": "stdout",
     "output_type": "stream",
     "text": [
      "------------------------Am Ende angelangt, gehe in neue Epoche\n",
      "Start of epoch 11\n"
     ]
    },
    {
     "name": "stderr",
     "output_type": "stream",
     "text": [
      "training...:   0%|                                  | 0/32 [00:00<?, ?it/s]"
     ]
    },
    {
     "name": "stdout",
     "output_type": "stream",
     "text": [
      "next batch...\n",
      "cnn_mean_prediction_values.shape: \n",
      "(32, 1, 1)\n"
     ]
    },
    {
     "name": "stderr",
     "output_type": "stream",
     "text": [
      "training...:   0%|                                  | 0/32 [00:34<?, ?it/s]\n"
     ]
    },
    {
     "ename": "KeyboardInterrupt",
     "evalue": "",
     "output_type": "error",
     "traceback": [
      "\u001b[1;31m---------------------------------------------------------------------------\u001b[0m",
      "\u001b[1;31mKeyboardInterrupt\u001b[0m                         Traceback (most recent call last)",
      "\u001b[1;32md:\\Main\\MA_PROGR\\Code_Fourier\\UNet_for_Fourier.ipynb Cell 23'\u001b[0m in \u001b[0;36m<cell line: 38>\u001b[1;34m()\u001b[0m\n\u001b[0;32m    <a href='vscode-notebook-cell:/d%3A/Main/MA_PROGR/Code_Fourier/UNet_for_Fourier.ipynb#ch0000022?line=115'>116</a>\u001b[0m loss \u001b[39m=\u001b[39m loss_fn(y_true\u001b[39m=\u001b[39my_true, y_pred\u001b[39m=\u001b[39mcnn_mean_prediction_values)\n\u001b[0;32m    <a href='vscode-notebook-cell:/d%3A/Main/MA_PROGR/Code_Fourier/UNet_for_Fourier.ipynb#ch0000022?line=116'>117</a>\u001b[0m \u001b[39m# print(\"loss: \")\u001b[39;00m\n\u001b[0;32m    <a href='vscode-notebook-cell:/d%3A/Main/MA_PROGR/Code_Fourier/UNet_for_Fourier.ipynb#ch0000022?line=117'>118</a>\u001b[0m \u001b[39m# print(loss)\u001b[39;00m\n\u001b[1;32m--> <a href='vscode-notebook-cell:/d%3A/Main/MA_PROGR/Code_Fourier/UNet_for_Fourier.ipynb#ch0000022?line=119'>120</a>\u001b[0m gradients \u001b[39m=\u001b[39m tape\u001b[39m.\u001b[39;49mgradient(loss, model_u_net\u001b[39m.\u001b[39;49mtrainable_weights)\n\u001b[0;32m    <a href='vscode-notebook-cell:/d%3A/Main/MA_PROGR/Code_Fourier/UNet_for_Fourier.ipynb#ch0000022?line=120'>121</a>\u001b[0m \u001b[39mdel\u001b[39;00m cnn_mean_prediction_values[:]\n\u001b[0;32m    <a href='vscode-notebook-cell:/d%3A/Main/MA_PROGR/Code_Fourier/UNet_for_Fourier.ipynb#ch0000022?line=121'>122</a>\u001b[0m \u001b[39m# print(\"gradients: \")\u001b[39;00m\n\u001b[0;32m    <a href='vscode-notebook-cell:/d%3A/Main/MA_PROGR/Code_Fourier/UNet_for_Fourier.ipynb#ch0000022?line=122'>123</a>\u001b[0m \u001b[39m# print(gradients)\u001b[39;00m\n\u001b[0;32m    <a href='vscode-notebook-cell:/d%3A/Main/MA_PROGR/Code_Fourier/UNet_for_Fourier.ipynb#ch0000022?line=123'>124</a>\u001b[0m \n\u001b[0;32m    <a href='vscode-notebook-cell:/d%3A/Main/MA_PROGR/Code_Fourier/UNet_for_Fourier.ipynb#ch0000022?line=124'>125</a>\u001b[0m \u001b[39m# Optimize the model:\u001b[39;00m\n",
      "File \u001b[1;32md:\\Programme\\Anaconda3\\envs\\tf_training\\lib\\site-packages\\tensorflow\\python\\eager\\backprop.py:1074\u001b[0m, in \u001b[0;36mGradientTape.gradient\u001b[1;34m(self, target, sources, output_gradients, unconnected_gradients)\u001b[0m\n\u001b[0;32m   <a href='file:///d%3A/Programme/Anaconda3/envs/tf_training/lib/site-packages/tensorflow/python/eager/backprop.py?line=1069'>1070</a>\u001b[0m \u001b[39mif\u001b[39;00m output_gradients \u001b[39mis\u001b[39;00m \u001b[39mnot\u001b[39;00m \u001b[39mNone\u001b[39;00m:\n\u001b[0;32m   <a href='file:///d%3A/Programme/Anaconda3/envs/tf_training/lib/site-packages/tensorflow/python/eager/backprop.py?line=1070'>1071</a>\u001b[0m   output_gradients \u001b[39m=\u001b[39m [\u001b[39mNone\u001b[39;00m \u001b[39mif\u001b[39;00m x \u001b[39mis\u001b[39;00m \u001b[39mNone\u001b[39;00m \u001b[39melse\u001b[39;00m ops\u001b[39m.\u001b[39mconvert_to_tensor(x)\n\u001b[0;32m   <a href='file:///d%3A/Programme/Anaconda3/envs/tf_training/lib/site-packages/tensorflow/python/eager/backprop.py?line=1071'>1072</a>\u001b[0m                       \u001b[39mfor\u001b[39;00m x \u001b[39min\u001b[39;00m nest\u001b[39m.\u001b[39mflatten(output_gradients)]\n\u001b[1;32m-> <a href='file:///d%3A/Programme/Anaconda3/envs/tf_training/lib/site-packages/tensorflow/python/eager/backprop.py?line=1073'>1074</a>\u001b[0m flat_grad \u001b[39m=\u001b[39m imperative_grad\u001b[39m.\u001b[39;49mimperative_grad(\n\u001b[0;32m   <a href='file:///d%3A/Programme/Anaconda3/envs/tf_training/lib/site-packages/tensorflow/python/eager/backprop.py?line=1074'>1075</a>\u001b[0m     \u001b[39mself\u001b[39;49m\u001b[39m.\u001b[39;49m_tape,\n\u001b[0;32m   <a href='file:///d%3A/Programme/Anaconda3/envs/tf_training/lib/site-packages/tensorflow/python/eager/backprop.py?line=1075'>1076</a>\u001b[0m     flat_targets,\n\u001b[0;32m   <a href='file:///d%3A/Programme/Anaconda3/envs/tf_training/lib/site-packages/tensorflow/python/eager/backprop.py?line=1076'>1077</a>\u001b[0m     flat_sources,\n\u001b[0;32m   <a href='file:///d%3A/Programme/Anaconda3/envs/tf_training/lib/site-packages/tensorflow/python/eager/backprop.py?line=1077'>1078</a>\u001b[0m     output_gradients\u001b[39m=\u001b[39;49moutput_gradients,\n\u001b[0;32m   <a href='file:///d%3A/Programme/Anaconda3/envs/tf_training/lib/site-packages/tensorflow/python/eager/backprop.py?line=1078'>1079</a>\u001b[0m     sources_raw\u001b[39m=\u001b[39;49mflat_sources_raw,\n\u001b[0;32m   <a href='file:///d%3A/Programme/Anaconda3/envs/tf_training/lib/site-packages/tensorflow/python/eager/backprop.py?line=1079'>1080</a>\u001b[0m     unconnected_gradients\u001b[39m=\u001b[39;49munconnected_gradients)\n\u001b[0;32m   <a href='file:///d%3A/Programme/Anaconda3/envs/tf_training/lib/site-packages/tensorflow/python/eager/backprop.py?line=1081'>1082</a>\u001b[0m \u001b[39mif\u001b[39;00m \u001b[39mnot\u001b[39;00m \u001b[39mself\u001b[39m\u001b[39m.\u001b[39m_persistent:\n\u001b[0;32m   <a href='file:///d%3A/Programme/Anaconda3/envs/tf_training/lib/site-packages/tensorflow/python/eager/backprop.py?line=1082'>1083</a>\u001b[0m   \u001b[39m# Keep track of watched variables before setting tape to None\u001b[39;00m\n\u001b[0;32m   <a href='file:///d%3A/Programme/Anaconda3/envs/tf_training/lib/site-packages/tensorflow/python/eager/backprop.py?line=1083'>1084</a>\u001b[0m   \u001b[39mself\u001b[39m\u001b[39m.\u001b[39m_watched_variables \u001b[39m=\u001b[39m \u001b[39mself\u001b[39m\u001b[39m.\u001b[39m_tape\u001b[39m.\u001b[39mwatched_variables()\n",
      "File \u001b[1;32md:\\Programme\\Anaconda3\\envs\\tf_training\\lib\\site-packages\\tensorflow\\python\\eager\\imperative_grad.py:71\u001b[0m, in \u001b[0;36mimperative_grad\u001b[1;34m(tape, target, sources, output_gradients, sources_raw, unconnected_gradients)\u001b[0m\n\u001b[0;32m     <a href='file:///d%3A/Programme/Anaconda3/envs/tf_training/lib/site-packages/tensorflow/python/eager/imperative_grad.py?line=66'>67</a>\u001b[0m \u001b[39mexcept\u001b[39;00m \u001b[39mValueError\u001b[39;00m:\n\u001b[0;32m     <a href='file:///d%3A/Programme/Anaconda3/envs/tf_training/lib/site-packages/tensorflow/python/eager/imperative_grad.py?line=67'>68</a>\u001b[0m   \u001b[39mraise\u001b[39;00m \u001b[39mValueError\u001b[39;00m(\n\u001b[0;32m     <a href='file:///d%3A/Programme/Anaconda3/envs/tf_training/lib/site-packages/tensorflow/python/eager/imperative_grad.py?line=68'>69</a>\u001b[0m       \u001b[39m\"\u001b[39m\u001b[39mUnknown value for unconnected_gradients: \u001b[39m\u001b[39m%r\u001b[39;00m\u001b[39m\"\u001b[39m \u001b[39m%\u001b[39m unconnected_gradients)\n\u001b[1;32m---> <a href='file:///d%3A/Programme/Anaconda3/envs/tf_training/lib/site-packages/tensorflow/python/eager/imperative_grad.py?line=70'>71</a>\u001b[0m \u001b[39mreturn\u001b[39;00m pywrap_tfe\u001b[39m.\u001b[39;49mTFE_Py_TapeGradient(\n\u001b[0;32m     <a href='file:///d%3A/Programme/Anaconda3/envs/tf_training/lib/site-packages/tensorflow/python/eager/imperative_grad.py?line=71'>72</a>\u001b[0m     tape\u001b[39m.\u001b[39;49m_tape,  \u001b[39m# pylint: disable=protected-access\u001b[39;49;00m\n\u001b[0;32m     <a href='file:///d%3A/Programme/Anaconda3/envs/tf_training/lib/site-packages/tensorflow/python/eager/imperative_grad.py?line=72'>73</a>\u001b[0m     target,\n\u001b[0;32m     <a href='file:///d%3A/Programme/Anaconda3/envs/tf_training/lib/site-packages/tensorflow/python/eager/imperative_grad.py?line=73'>74</a>\u001b[0m     sources,\n\u001b[0;32m     <a href='file:///d%3A/Programme/Anaconda3/envs/tf_training/lib/site-packages/tensorflow/python/eager/imperative_grad.py?line=74'>75</a>\u001b[0m     output_gradients,\n\u001b[0;32m     <a href='file:///d%3A/Programme/Anaconda3/envs/tf_training/lib/site-packages/tensorflow/python/eager/imperative_grad.py?line=75'>76</a>\u001b[0m     sources_raw,\n\u001b[0;32m     <a href='file:///d%3A/Programme/Anaconda3/envs/tf_training/lib/site-packages/tensorflow/python/eager/imperative_grad.py?line=76'>77</a>\u001b[0m     compat\u001b[39m.\u001b[39;49mas_str(unconnected_gradients\u001b[39m.\u001b[39;49mvalue))\n",
      "File \u001b[1;32md:\\Programme\\Anaconda3\\envs\\tf_training\\lib\\site-packages\\tensorflow\\python\\eager\\function.py:1302\u001b[0m, in \u001b[0;36m_TapeGradientFunctions._wrap_backward_function.<locals>._backward_function_wrapper\u001b[1;34m(*args)\u001b[0m\n\u001b[0;32m   <a href='file:///d%3A/Programme/Anaconda3/envs/tf_training/lib/site-packages/tensorflow/python/eager/function.py?line=1299'>1300</a>\u001b[0m   \u001b[39mif\u001b[39;00m input_index \u001b[39m>\u001b[39m\u001b[39m=\u001b[39m backward_function_inputs:\n\u001b[0;32m   <a href='file:///d%3A/Programme/Anaconda3/envs/tf_training/lib/site-packages/tensorflow/python/eager/function.py?line=1300'>1301</a>\u001b[0m     \u001b[39mbreak\u001b[39;00m\n\u001b[1;32m-> <a href='file:///d%3A/Programme/Anaconda3/envs/tf_training/lib/site-packages/tensorflow/python/eager/function.py?line=1301'>1302</a>\u001b[0m \u001b[39mreturn\u001b[39;00m backward\u001b[39m.\u001b[39;49m_call_flat(  \u001b[39m# pylint: disable=protected-access\u001b[39;49;00m\n\u001b[0;32m   <a href='file:///d%3A/Programme/Anaconda3/envs/tf_training/lib/site-packages/tensorflow/python/eager/function.py?line=1302'>1303</a>\u001b[0m     processed_args, remapped_captures)\n",
      "File \u001b[1;32md:\\Programme\\Anaconda3\\envs\\tf_training\\lib\\site-packages\\tensorflow\\python\\eager\\function.py:1960\u001b[0m, in \u001b[0;36mConcreteFunction._call_flat\u001b[1;34m(self, args, captured_inputs, cancellation_manager)\u001b[0m\n\u001b[0;32m   <a href='file:///d%3A/Programme/Anaconda3/envs/tf_training/lib/site-packages/tensorflow/python/eager/function.py?line=1955'>1956</a>\u001b[0m possible_gradient_type \u001b[39m=\u001b[39m gradients_util\u001b[39m.\u001b[39mPossibleTapeGradientTypes(args)\n\u001b[0;32m   <a href='file:///d%3A/Programme/Anaconda3/envs/tf_training/lib/site-packages/tensorflow/python/eager/function.py?line=1956'>1957</a>\u001b[0m \u001b[39mif\u001b[39;00m (possible_gradient_type \u001b[39m==\u001b[39m gradients_util\u001b[39m.\u001b[39mPOSSIBLE_GRADIENT_TYPES_NONE\n\u001b[0;32m   <a href='file:///d%3A/Programme/Anaconda3/envs/tf_training/lib/site-packages/tensorflow/python/eager/function.py?line=1957'>1958</a>\u001b[0m     \u001b[39mand\u001b[39;00m executing_eagerly):\n\u001b[0;32m   <a href='file:///d%3A/Programme/Anaconda3/envs/tf_training/lib/site-packages/tensorflow/python/eager/function.py?line=1958'>1959</a>\u001b[0m   \u001b[39m# No tape is watching; skip to running the function.\u001b[39;00m\n\u001b[1;32m-> <a href='file:///d%3A/Programme/Anaconda3/envs/tf_training/lib/site-packages/tensorflow/python/eager/function.py?line=1959'>1960</a>\u001b[0m   \u001b[39mreturn\u001b[39;00m \u001b[39mself\u001b[39m\u001b[39m.\u001b[39m_build_call_outputs(\u001b[39mself\u001b[39;49m\u001b[39m.\u001b[39;49m_inference_function\u001b[39m.\u001b[39;49mcall(\n\u001b[0;32m   <a href='file:///d%3A/Programme/Anaconda3/envs/tf_training/lib/site-packages/tensorflow/python/eager/function.py?line=1960'>1961</a>\u001b[0m       ctx, args, cancellation_manager\u001b[39m=\u001b[39;49mcancellation_manager))\n\u001b[0;32m   <a href='file:///d%3A/Programme/Anaconda3/envs/tf_training/lib/site-packages/tensorflow/python/eager/function.py?line=1961'>1962</a>\u001b[0m forward_backward \u001b[39m=\u001b[39m \u001b[39mself\u001b[39m\u001b[39m.\u001b[39m_select_forward_and_backward_functions(\n\u001b[0;32m   <a href='file:///d%3A/Programme/Anaconda3/envs/tf_training/lib/site-packages/tensorflow/python/eager/function.py?line=1962'>1963</a>\u001b[0m     args,\n\u001b[0;32m   <a href='file:///d%3A/Programme/Anaconda3/envs/tf_training/lib/site-packages/tensorflow/python/eager/function.py?line=1963'>1964</a>\u001b[0m     possible_gradient_type,\n\u001b[0;32m   <a href='file:///d%3A/Programme/Anaconda3/envs/tf_training/lib/site-packages/tensorflow/python/eager/function.py?line=1964'>1965</a>\u001b[0m     executing_eagerly)\n\u001b[0;32m   <a href='file:///d%3A/Programme/Anaconda3/envs/tf_training/lib/site-packages/tensorflow/python/eager/function.py?line=1965'>1966</a>\u001b[0m forward_function, args_with_tangents \u001b[39m=\u001b[39m forward_backward\u001b[39m.\u001b[39mforward()\n",
      "File \u001b[1;32md:\\Programme\\Anaconda3\\envs\\tf_training\\lib\\site-packages\\tensorflow\\python\\eager\\function.py:591\u001b[0m, in \u001b[0;36m_EagerDefinedFunction.call\u001b[1;34m(self, ctx, args, cancellation_manager)\u001b[0m\n\u001b[0;32m    <a href='file:///d%3A/Programme/Anaconda3/envs/tf_training/lib/site-packages/tensorflow/python/eager/function.py?line=588'>589</a>\u001b[0m \u001b[39mwith\u001b[39;00m _InterpolateFunctionError(\u001b[39mself\u001b[39m):\n\u001b[0;32m    <a href='file:///d%3A/Programme/Anaconda3/envs/tf_training/lib/site-packages/tensorflow/python/eager/function.py?line=589'>590</a>\u001b[0m   \u001b[39mif\u001b[39;00m cancellation_manager \u001b[39mis\u001b[39;00m \u001b[39mNone\u001b[39;00m:\n\u001b[1;32m--> <a href='file:///d%3A/Programme/Anaconda3/envs/tf_training/lib/site-packages/tensorflow/python/eager/function.py?line=590'>591</a>\u001b[0m     outputs \u001b[39m=\u001b[39m execute\u001b[39m.\u001b[39;49mexecute(\n\u001b[0;32m    <a href='file:///d%3A/Programme/Anaconda3/envs/tf_training/lib/site-packages/tensorflow/python/eager/function.py?line=591'>592</a>\u001b[0m         \u001b[39mstr\u001b[39;49m(\u001b[39mself\u001b[39;49m\u001b[39m.\u001b[39;49msignature\u001b[39m.\u001b[39;49mname),\n\u001b[0;32m    <a href='file:///d%3A/Programme/Anaconda3/envs/tf_training/lib/site-packages/tensorflow/python/eager/function.py?line=592'>593</a>\u001b[0m         num_outputs\u001b[39m=\u001b[39;49m\u001b[39mself\u001b[39;49m\u001b[39m.\u001b[39;49m_num_outputs,\n\u001b[0;32m    <a href='file:///d%3A/Programme/Anaconda3/envs/tf_training/lib/site-packages/tensorflow/python/eager/function.py?line=593'>594</a>\u001b[0m         inputs\u001b[39m=\u001b[39;49margs,\n\u001b[0;32m    <a href='file:///d%3A/Programme/Anaconda3/envs/tf_training/lib/site-packages/tensorflow/python/eager/function.py?line=594'>595</a>\u001b[0m         attrs\u001b[39m=\u001b[39;49mattrs,\n\u001b[0;32m    <a href='file:///d%3A/Programme/Anaconda3/envs/tf_training/lib/site-packages/tensorflow/python/eager/function.py?line=595'>596</a>\u001b[0m         ctx\u001b[39m=\u001b[39;49mctx)\n\u001b[0;32m    <a href='file:///d%3A/Programme/Anaconda3/envs/tf_training/lib/site-packages/tensorflow/python/eager/function.py?line=596'>597</a>\u001b[0m   \u001b[39melse\u001b[39;00m:\n\u001b[0;32m    <a href='file:///d%3A/Programme/Anaconda3/envs/tf_training/lib/site-packages/tensorflow/python/eager/function.py?line=597'>598</a>\u001b[0m     outputs \u001b[39m=\u001b[39m execute\u001b[39m.\u001b[39mexecute_with_cancellation(\n\u001b[0;32m    <a href='file:///d%3A/Programme/Anaconda3/envs/tf_training/lib/site-packages/tensorflow/python/eager/function.py?line=598'>599</a>\u001b[0m         \u001b[39mstr\u001b[39m(\u001b[39mself\u001b[39m\u001b[39m.\u001b[39msignature\u001b[39m.\u001b[39mname),\n\u001b[0;32m    <a href='file:///d%3A/Programme/Anaconda3/envs/tf_training/lib/site-packages/tensorflow/python/eager/function.py?line=599'>600</a>\u001b[0m         num_outputs\u001b[39m=\u001b[39m\u001b[39mself\u001b[39m\u001b[39m.\u001b[39m_num_outputs,\n\u001b[1;32m   (...)\u001b[0m\n\u001b[0;32m    <a href='file:///d%3A/Programme/Anaconda3/envs/tf_training/lib/site-packages/tensorflow/python/eager/function.py?line=602'>603</a>\u001b[0m         ctx\u001b[39m=\u001b[39mctx,\n\u001b[0;32m    <a href='file:///d%3A/Programme/Anaconda3/envs/tf_training/lib/site-packages/tensorflow/python/eager/function.py?line=603'>604</a>\u001b[0m         cancellation_manager\u001b[39m=\u001b[39mcancellation_manager)\n",
      "File \u001b[1;32md:\\Programme\\Anaconda3\\envs\\tf_training\\lib\\site-packages\\tensorflow\\python\\eager\\execute.py:59\u001b[0m, in \u001b[0;36mquick_execute\u001b[1;34m(op_name, num_outputs, inputs, attrs, ctx, name)\u001b[0m\n\u001b[0;32m     <a href='file:///d%3A/Programme/Anaconda3/envs/tf_training/lib/site-packages/tensorflow/python/eager/execute.py?line=56'>57</a>\u001b[0m \u001b[39mtry\u001b[39;00m:\n\u001b[0;32m     <a href='file:///d%3A/Programme/Anaconda3/envs/tf_training/lib/site-packages/tensorflow/python/eager/execute.py?line=57'>58</a>\u001b[0m   ctx\u001b[39m.\u001b[39mensure_initialized()\n\u001b[1;32m---> <a href='file:///d%3A/Programme/Anaconda3/envs/tf_training/lib/site-packages/tensorflow/python/eager/execute.py?line=58'>59</a>\u001b[0m   tensors \u001b[39m=\u001b[39m pywrap_tfe\u001b[39m.\u001b[39;49mTFE_Py_Execute(ctx\u001b[39m.\u001b[39;49m_handle, device_name, op_name,\n\u001b[0;32m     <a href='file:///d%3A/Programme/Anaconda3/envs/tf_training/lib/site-packages/tensorflow/python/eager/execute.py?line=59'>60</a>\u001b[0m                                       inputs, attrs, num_outputs)\n\u001b[0;32m     <a href='file:///d%3A/Programme/Anaconda3/envs/tf_training/lib/site-packages/tensorflow/python/eager/execute.py?line=60'>61</a>\u001b[0m \u001b[39mexcept\u001b[39;00m core\u001b[39m.\u001b[39m_NotOkStatusException \u001b[39mas\u001b[39;00m e:\n\u001b[0;32m     <a href='file:///d%3A/Programme/Anaconda3/envs/tf_training/lib/site-packages/tensorflow/python/eager/execute.py?line=61'>62</a>\u001b[0m   \u001b[39mif\u001b[39;00m name \u001b[39mis\u001b[39;00m \u001b[39mnot\u001b[39;00m \u001b[39mNone\u001b[39;00m:\n",
      "\u001b[1;31mKeyboardInterrupt\u001b[0m: "
     ]
    }
   ],
   "source": [
    "# Custom train loop\n",
    "\n",
    "SAFE_RESULTS = True\n",
    "WRITE_PATH = \"D:\\\\Main\\\\MA_PROGR\\\\Data\\\\UNET_Output\\\\Session04\"\n",
    "\n",
    "show_intermediate_pics = False\n",
    "\n",
    "RGB_WEIGHTS = [0.299, 0.587, 0.114]\n",
    "\n",
    "\n",
    "overall_train_loss = []\n",
    "\n",
    "\n",
    "execute_UNet_model = tf.function(model_u_net)\n",
    "execute_cnn_model = tf.function(model_cnn)\n",
    "execute_postprocessing_model = tf.function(postprocessing_model)\n",
    "\n",
    "NUM_EPOCHS = 15\n",
    "batch_size_cnn = 1\n",
    "batch_size_unet = 32\n",
    "\n",
    "\n",
    "optimizer = tf.keras.optimizers.Adam()\n",
    "# loss_fn = tf.keras.losses.SparseCategoricalCrossentropy(from_logits=True)\n",
    "loss_fn = tf.keras.losses.MeanAbsoluteError()\n",
    "# loss_fn = tf.keras.losses.BinaryCrossentropy(from_logits=True)\n",
    "epoch_loss = tf.keras.metrics.MeanAbsoluteError()\n",
    "# epoch_loss = tf.keras.metrics.SparseCategoricalAccuracy()\n",
    "# epoch_loss = tf.keras.metrics.SparseCategoricalCrossentropy()\n",
    "\n",
    "train_writer = tf.summary.create_file_writer(\"u_net_logs/train/\")\n",
    "test_writer = tf.summary.create_file_writer(\"u_net_logs/test/\")\n",
    "\n",
    "y_true = tf.constant(0, dtype=tf.float16, name=\"y_true\")\n",
    "\n",
    "jump_to_new_epoch = False\n",
    "\n",
    "for epoch in range(NUM_EPOCHS):\n",
    "\n",
    "    print(f\"Start of epoch {epoch}\")\n",
    "    jump_to_new_epoch = False\n",
    "\n",
    "    # Mache neue Generater, sodass wieder durch alle Bilder durchgegange wird für die nächste Epoche:\n",
    "    train_filmed_img_gen_obj = my_train_filmed_gen()\n",
    "    train_clean_img_gen_obj = my_train_clean_gen()\n",
    "\n",
    "    # ---------------------------------------------------------------------------- BATCHES SAMMELN Start ----------------------------------------------------------------------------------------\n",
    "    train_step = 0\n",
    "\n",
    "    for batch_idx in tqdm(range(batch_size_unet), desc=\"training...\", ascii=False, ncols=75):\n",
    "        print(\"next batch...\")\n",
    "        cnn_mean_prediction_values = []\n",
    "\n",
    "        with tf.GradientTape() as tape:\n",
    "\n",
    "        \n",
    "            # Bilder für den nächsten Batch sammeln:\n",
    "            for i in range(batch_size_unet):\n",
    "                try:\n",
    "                    x_filmed = train_filmed_img_gen_obj.__next__()\n",
    "                    x_clean = train_clean_img_gen_obj.__next__()\n",
    "                except StopIteration as e:\n",
    "                    print(\"------------------------Am Ende angelangt, gehe in neue Epoche\")\n",
    "\n",
    "                    jump_to_new_epoch = True\n",
    "\n",
    "                if jump_to_new_epoch == True:\n",
    "                    # Alle Bilder sind aufgebraucht, gehe in neue Epoche\n",
    "                    break\n",
    "\n",
    "\n",
    "                \n",
    "                y_pred, differenzbild_fourier_px, u_net_output, image_processed_rgb = calc_mean_alias_value_of_one_image(\n",
    "                    x_filmed, x_clean)\n",
    "                cnn_mean_prediction_values.append(y_pred)\n",
    "\n",
    "                # print(\"y_pred: \")\n",
    "                # print(y_pred)\n",
    "\n",
    "                # ---------------------------------------------------------------------------- BATCHES SAMMELN ENDE ----------------------------------------------------------------------------------------\n",
    "\n",
    "            \n",
    "            if SAFE_RESULTS:\n",
    "                plt.imsave(f\"{WRITE_PATH}\\\\x_filmed_{epoch}_{batch_idx}.png\", x_filmed)\n",
    "\n",
    "                plt.imsave(f\"{WRITE_PATH}\\\\differenzbild_{epoch}_{batch_idx}.png\",\n",
    "                   differenzbild_fourier_px.reshape((IMG_WIDTH,IMG_HEIGHT)), cmap=\"gray\")\n",
    "\n",
    "                plt.imsave(f\"{WRITE_PATH}\\\\unet_output_{epoch}_{batch_idx}.png\",\n",
    "                   u_net_output, cmap=\"gray\")\n",
    "\n",
    "\n",
    "                # Umformen in Numpy-Array\n",
    "                image_processed_rgb = np.array(image_processed_rgb).reshape((IMG_WIDTH, IMG_HEIGHT, 3))\n",
    "\n",
    "                # Max-Wert liegt manchesmal über 1 (keine ahnung warum...)\n",
    "                if image_processed_rgb.max() >= 1:\n",
    "                    # Werte auf 0 - 1 bringen\n",
    "                    image_processed_rgb= image_processed_rgb / image_processed_rgb.max()\n",
    "\n",
    "\n",
    "                plt.imsave(f\"{WRITE_PATH}\\\\image_processed_rgb_{epoch}_{batch_idx}.png\",\n",
    "                   np.array(image_processed_rgb).reshape((IMG_WIDTH, IMG_HEIGHT, 3)))\n",
    "\n",
    "            if jump_to_new_epoch == True:\n",
    "                # Alle Bilder sind aufgebraucht, gehe in neue \n",
    "                break\n",
    "\n",
    "            # ----------- Calc loss -----------\n",
    "\n",
    "            y_true = tf.zeros(batch_size_unet, 1)\n",
    "\n",
    "            # print(\"cnn_mean_prediction_values.shape: \")\n",
    "            # print( np.array(cnn_mean_prediction_values).shape)\n",
    "\n",
    "            loss = loss_fn(y_true=y_true, y_pred=cnn_mean_prediction_values)\n",
    "            # print(\"loss: \")\n",
    "            # print(loss)\n",
    "\n",
    "            gradients = tape.gradient(loss, model_u_net.trainable_weights)\n",
    "            del cnn_mean_prediction_values[:]\n",
    "            # print(\"gradients: \")\n",
    "            # print(gradients)\n",
    "\n",
    "            # Optimize the model:\n",
    "            optimizer.apply_gradients(\n",
    "                zip(gradients, model_u_net.trainable_variables))\n",
    "\n",
    "            tmp = epoch_loss.update_state(y_true, y_pred)\n",
    "\n",
    "            # print(\"tmp\")\n",
    "            # print(tmp)\n",
    "\n",
    "\n",
    "            # print(\"------------------------------------\")\n",
    "            # print(\"y_true:\")\n",
    "            # print(y_true)\n",
    "\n",
    "            # print(\"y_pred\")\n",
    "            # print(y_pred)\n",
    "            # print(\"------------------------------------\")\n",
    "\n",
    "\n",
    "\n",
    "            # with train_writer.as_default():\n",
    "            #     tf.summary.scalar(\"Loss\", loss, step=train_step)\n",
    "            #     tf.summary.scalar(\n",
    "            #         \"Accuracy\", epoch_loss.result(), step=train_step,\n",
    "            #     )\n",
    "            # train_step += 1\n",
    "        \n",
    "        # End Epoch\n",
    "\n",
    "        print(f\"--------------- epoch_loss: {epoch_loss.result()}\")\n",
    "        overall_train_loss.append(epoch_loss.result())\n",
    "\n",
    "\n",
    "\n",
    "# overall_train_loss = epoch_loss.result()\n",
    "# print(f\"overall_train_loss: {overall_train_loss}\")\n",
    "# epoch_loss.reset_states()\n"
   ]
  },
  {
   "cell_type": "code",
   "execution_count": 729,
   "metadata": {},
   "outputs": [
    {
     "data": {
      "text/plain": [
       "[<matplotlib.lines.Line2D at 0x22306945b80>]"
      ]
     },
     "execution_count": 729,
     "metadata": {},
     "output_type": "execute_result"
    },
    {
     "data": {
      "image/png": "[encoded data removed]",
      "text/plain": [
       "<Figure size 432x288 with 1 Axes>"
      ]
     },
     "metadata": {
      "needs_background": "light"
     },
     "output_type": "display_data"
    }
   ],
   "source": [
    "\n",
    "plt.plot(overall_train_loss)"
   ]
  },
  {
   "cell_type": "code",
   "execution_count": null,
   "metadata": {},
   "outputs": [
    {
     "data": {
      "image/png": "[encoded data removed]",
      "text/plain": [
       "<Figure size 864x576 with 2 Axes>"
      ]
     },
     "metadata": {
      "needs_background": "light"
     },
     "output_type": "display_data"
    }
   ],
   "source": [
    "fig, axes = plt.subplots(2, sharex=True, figsize=(12, 8))\n",
    "fig.suptitle('Training Metrics')\n",
    "\n",
    "axes[0].set_ylabel(\"Loss\", fontsize=14)\n",
    "axes[0].plot(overall_train_loss)\n",
    "\n",
    "plt.show()\n"
   ]
  },
  {
   "cell_type": "code",
   "execution_count": null,
   "metadata": {},
   "outputs": [
    {
     "ename": "ValueError",
     "evalue": "cannot reshape array of size 65536 into shape (1,128,128,3)",
     "output_type": "error",
     "traceback": [
      "\u001b[1;31m---------------------------------------------------------------------------\u001b[0m",
      "\u001b[1;31mValueError\u001b[0m                                Traceback (most recent call last)",
      "\u001b[1;32md:\\Main\\MA_PROGR\\Code_Fourier\\UNet_for_Fourier.ipynb Cell 24'\u001b[0m in \u001b[0;36m<cell line: 2>\u001b[1;34m()\u001b[0m\n\u001b[0;32m      <a href='vscode-notebook-cell:/d%3A/Main/MA_PROGR/Code_Fourier/UNet_for_Fourier.ipynb#ch0000022?line=0'>1</a>\u001b[0m test_img \u001b[39m=\u001b[39m img[\u001b[39m400\u001b[39m:\u001b[39m528\u001b[39m, \u001b[39m400\u001b[39m:\u001b[39m528\u001b[39m,:]\n\u001b[1;32m----> <a href='vscode-notebook-cell:/d%3A/Main/MA_PROGR/Code_Fourier/UNet_for_Fourier.ipynb#ch0000022?line=1'>2</a>\u001b[0m test_img \u001b[39m=\u001b[39m np\u001b[39m.\u001b[39;49marray(test_img)\u001b[39m.\u001b[39;49mreshape(\u001b[39m1\u001b[39;49m, \u001b[39m128\u001b[39;49m , \u001b[39m128\u001b[39;49m , \u001b[39m3\u001b[39;49m)\n\u001b[0;32m      <a href='vscode-notebook-cell:/d%3A/Main/MA_PROGR/Code_Fourier/UNet_for_Fourier.ipynb#ch0000022?line=3'>4</a>\u001b[0m \u001b[39m# plt.imshow(test_img)\u001b[39;00m\n\u001b[0;32m      <a href='vscode-notebook-cell:/d%3A/Main/MA_PROGR/Code_Fourier/UNet_for_Fourier.ipynb#ch0000022?line=5'>6</a>\u001b[0m test_img\u001b[39m=\u001b[39m tf\u001b[39m.\u001b[39mconvert_to_tensor(test_img, dtype\u001b[39m=\u001b[39mtf\u001b[39m.\u001b[39mfloat32)\n",
      "\u001b[1;31mValueError\u001b[0m: cannot reshape array of size 65536 into shape (1,128,128,3)"
     ]
    }
   ],
   "source": [
    "test_img = img[400:528, 400:528,:]\n",
    "test_img = np.array(test_img).reshape(1, 128 , 128 , 3)\n",
    "\n",
    "# plt.imshow(test_img)\n",
    "\n",
    "test_img= tf.convert_to_tensor(test_img, dtype=tf.float32)\n",
    "\n",
    "test_img\n"
   ]
  },
  {
   "cell_type": "code",
   "execution_count": null,
   "metadata": {},
   "outputs": [
    {
     "name": "stderr",
     "output_type": "stream",
     "text": [
      "Clipping input data to the valid range for imshow with RGB data ([0..1] for floats or [0..255] for integers).\n"
     ]
    },
    {
     "data": {
      "text/plain": [
       "<matplotlib.image.AxesImage at 0x22300133f10>"
      ]
     },
     "execution_count": 314,
     "metadata": {},
     "output_type": "execute_result"
    },
    {
     "data": {
      "image/png": "[encoded data removed]",
      "text/plain": [
       "<Figure size 432x288 with 1 Axes>"
      ]
     },
     "metadata": {
      "needs_background": "light"
     },
     "output_type": "display_data"
    }
   ],
   "source": [
    "import tensorflow as tf\n",
    "BATCH_SIZE = 1\n",
    "NUM_BOXES = 3\n",
    "IMAGE_HEIGHT = 128\n",
    "IMAGE_WIDTH = 128\n",
    "CHANNELS = 3\n",
    "CROP_SIZE = (24, 24)\n",
    "\n",
    "test_img = img[400:528, 400:528, :]\n",
    "test_img = np.array(test_img).reshape(1, 128, 128, 3)\n",
    "\n",
    "# plt.imshow(test_img)\n",
    "\n",
    "test_img = tf.convert_to_tensor(test_img, dtype=tf.float32)\n",
    "image = test_img\n",
    "boxes = tf.random.uniform(shape=(NUM_BOXES, 4))\n",
    "# plt.imshow(np.array(image).reshape(IMAGE_HEIGHT, IMAGE_WIDTH, CHANNELS))\n",
    "# plt.show()\n",
    "box_indices = tf.random.uniform(shape=(NUM_BOXES,), minval=0,\n",
    "                                maxval=BATCH_SIZE, dtype=tf.int32)\n",
    "output = tf.image.crop_and_resize(image, boxes, box_indices, CROP_SIZE)\n",
    "output.shape  # => (5, 24, 24, 3)\n",
    "\n",
    "plt.imshow(output[2])\n"
   ]
  }
 ],
 "metadata": {
  "interpreter": {
   "hash": "bbe6f1f0ffae94815f8b68c5970304948992b116503ec65631f55d524065bfaa"
  },
  "kernelspec": {
   "display_name": "Python 3.9.7 ('tf_training')",
   "language": "python",
   "name": "python3"
  },
  "language_info": {
   "codemirror_mode": {
    "name": "ipython",
    "version": 3
   },
   "file_extension": ".py",
   "mimetype": "text/x-python",
   "name": "python",
   "nbconvert_exporter": "python",
   "pygments_lexer": "ipython3",
   "version": "3.9.7"
  },
  "orig_nbformat": 4
 },
 "nbformat": 4,
 "nbformat_minor": 2
}
