{
 "cells": [
  {
   "cell_type": "code",
   "execution_count": 36,
   "metadata": {},
   "outputs": [
    {
     "name": "stdout",
     "output_type": "stream",
     "text": [
      "INFO:tensorflow:Disabling eager execution\n"
     ]
    }
   ],
   "source": [
    "import tensorflow as tf\n",
    "import numpy as np\n",
    "tf.compat.v1.disable_eager_execution()\n"
   ]
  },
  {
   "cell_type": "code",
   "execution_count": 37,
   "metadata": {},
   "outputs": [],
   "source": [
    "\n",
    "IMG_WIDTH = IMG_HEIGHT = 128\n"
   ]
  },
  {
   "cell_type": "code",
   "execution_count": 38,
   "metadata": {},
   "outputs": [],
   "source": [
    "def create_fake_boolean_array(height, width):\n",
    "    a = np.empty([height, width])\n",
    "    return np.array(a, dtype=bool)\n",
    "\n",
    "\n",
    "def create_fake_complex_array(height, width):\n",
    "    a = np.empty([height, width])\n",
    "    return np.array(a, dtype=complex)\n"
   ]
  },
  {
   "cell_type": "code",
   "execution_count": 39,
   "metadata": {},
   "outputs": [],
   "source": [
    "x_filmed_fourier_complex_ph = tf.compat.v1.placeholder(\n",
    "    tf.complex128, shape=(IMG_WIDTH, IMG_HEIGHT), name=\"x_filmed_fourier_complex_ph\")\n",
    "x_clean_fourier_complex_ph = tf.compat.v1.placeholder(\n",
    "    tf.complex128, shape=(IMG_WIDTH, IMG_HEIGHT), name=\"x_clean_fourier_complex_ph\")\n",
    "\n",
    "difference_img_fourier_px_ph = tf.compat.v1.placeholder(\n",
    "    tf.bool, shape=(IMG_WIDTH, IMG_HEIGHT), name=\"difference_img_fourier_px_ph\")\n"
   ]
  },
  {
   "cell_type": "code",
   "execution_count": 57,
   "metadata": {},
   "outputs": [
    {
     "name": "stdout",
     "output_type": "stream",
     "text": [
      "(128, 128)\n",
      "<class 'numpy.ndarray'>\n",
      "<class 'numpy.bool_'>\n",
      "(128, 128)\n",
      "<class 'numpy.ndarray'>\n",
      "<class 'numpy.complex128'>\n",
      "(128, 128)\n",
      "<class 'numpy.ndarray'>\n",
      "<class 'numpy.complex128'>\n"
     ]
    }
   ],
   "source": [
    "differ = create_fake_boolean_array(IMG_WIDTH, IMG_WIDTH)\n",
    "xf = create_fake_complex_array(IMG_WIDTH, IMG_WIDTH)\n",
    "xc = create_fake_complex_array(IMG_WIDTH, IMG_WIDTH)\n",
    "\n",
    "print(differ.shape)\n",
    "print(type(differ))\n",
    "print(type(differ[0][0]))\n",
    "\n",
    "print(xf.shape)\n",
    "print(type(xf))\n",
    "print(type(xf[0][0]))\n",
    "\n",
    "print(xc.shape)\n",
    "print(type(xc))\n",
    "print(type(xc[0][0]))\n"
   ]
  },
  {
   "cell_type": "code",
   "execution_count": 41,
   "metadata": {},
   "outputs": [],
   "source": [
    "tf_func_where = tf.where(\n",
    "    condition=difference_img_fourier_px_ph,\n",
    "    x=x_filmed_fourier_complex_ph,\n",
    "    y=x_clean_fourier_complex_ph\n",
    ")\n"
   ]
  },
  {
   "cell_type": "code",
   "execution_count": 67,
   "metadata": {},
   "outputs": [
    {
     "name": "stdout",
     "output_type": "stream",
     "text": [
      "[[7.99508765e-312+0.j 7.99509194e-312+0.j 6.42285340e-323+0.j ...\n",
      "  7.41098469e-323+0.j 5.06145106e+093+0.j 2.21511947e-312+0.j]\n",
      " [0.00000000e+000+0.j 7.41098469e-323+0.j 7.99487247e-312+0.j ...\n",
      "  7.41098469e-323+0.j 1.06102977e-312+0.j 0.00000000e+000+0.j]\n",
      " [0.00000000e+000+0.j 7.41098469e-323+0.j 3.29256646e+108+0.j ...\n",
      "  7.41098469e-323+0.j 1.88029257e+219+0.j 2.44853546e-312+0.j]\n",
      " ...\n",
      " [0.00000000e+000+0.j 0.00000000e+000+0.j 0.00000000e+000+0.j ...\n",
      "  0.00000000e+000+0.j 0.00000000e+000+0.j 0.00000000e+000+0.j]\n",
      " [0.00000000e+000+0.j 0.00000000e+000+0.j 0.00000000e+000+0.j ...\n",
      "  0.00000000e+000+0.j 0.00000000e+000+0.j 0.00000000e+000+0.j]\n",
      " [0.00000000e+000+0.j 0.00000000e+000+0.j 0.00000000e+000+0.j ...\n",
      "  0.00000000e+000+0.j 0.00000000e+000+0.j 0.00000000e+000+0.j]]\n"
     ]
    }
   ],
   "source": [
    "result = 0\n",
    "with tf.compat.v1.Session() as sess:\n",
    "    result = sess.run(tf_func_where, feed_dict={\n",
    "        difference_img_fourier_px_ph : differ,\n",
    "        x_filmed_fourier_complex_ph : xf,\n",
    "        x_clean_fourier_complex_ph : xc\n",
    "        })\n",
    "print(result)\n",
    "\n",
    "\n"
   ]
  },
  {
   "cell_type": "code",
   "execution_count": null,
   "metadata": {},
   "outputs": [],
   "source": []
  },
  {
   "cell_type": "code",
   "execution_count": null,
   "metadata": {},
   "outputs": [],
   "source": []
  }
 ],
 "metadata": {
  "interpreter": {
   "hash": "58a31560c3222f73c24c0eab0b6d9933bfafc2a96159f6aca9b232102d0e6606"
  },
  "kernelspec": {
   "display_name": "Python 3.9.2 64-bit",
   "language": "python",
   "name": "python3"
  },
  "language_info": {
   "codemirror_mode": {
    "name": "ipython",
    "version": 3
   },
   "file_extension": ".py",
   "mimetype": "text/x-python",
   "name": "python",
   "nbconvert_exporter": "python",
   "pygments_lexer": "ipython3",
   "version": "3.9.2"
  },
  "orig_nbformat": 4
 },
 "nbformat": 4,
 "nbformat_minor": 2
}
