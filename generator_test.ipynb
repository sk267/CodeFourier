{
 "cells": [
  {
   "cell_type": "code",
   "execution_count": 7,
   "metadata": {},
   "outputs": [],
   "source": [
    "import os"
   ]
  },
  {
   "cell_type": "code",
   "execution_count": 9,
   "metadata": {},
   "outputs": [],
   "source": [
    "READ_PATH = \"D:\\\\Main\\\\MA_PROGR\\\\Data\\\\Train\\\\UNet_Train\\\\model_at_tree_5_pics\\\\filmed\""
   ]
  },
  {
   "cell_type": "code",
   "execution_count": 16,
   "metadata": {},
   "outputs": [
    {
     "name": "stdout",
     "output_type": "stream",
     "text": [
      "epoch: 0\n",
      "batch_idx: 0\n",
      "cap02_allClips_fullSize_2608.tif\n",
      "cap02_allClips_fullSize_2609.tif\n",
      "cap02_allClips_fullSize_2610.tif\n",
      "batch_idx: 1\n",
      "cap02_allClips_fullSize_2611.tif\n",
      "cap02_allClips_fullSize_2612.tif\n",
      "------------------------Am Ende angelangt\n",
      "epoch: 1\n",
      "batch_idx: 0\n",
      "cap02_allClips_fullSize_2608.tif\n",
      "cap02_allClips_fullSize_2609.tif\n",
      "cap02_allClips_fullSize_2610.tif\n",
      "batch_idx: 1\n",
      "cap02_allClips_fullSize_2611.tif\n",
      "cap02_allClips_fullSize_2612.tif\n",
      "------------------------Am Ende angelangt\n",
      "epoch: 2\n",
      "batch_idx: 0\n",
      "cap02_allClips_fullSize_2608.tif\n",
      "cap02_allClips_fullSize_2609.tif\n",
      "cap02_allClips_fullSize_2610.tif\n",
      "batch_idx: 1\n",
      "cap02_allClips_fullSize_2611.tif\n",
      "cap02_allClips_fullSize_2612.tif\n",
      "------------------------Am Ende angelangt\n"
     ]
    }
   ],
   "source": [
    "def my_gen():\n",
    "    for adr in os.listdir(READ_PATH):\n",
    "        yield adr\n",
    "\n",
    "\n",
    "gen1 = my_gen()\n",
    "\n",
    "jump_to_new_epoch = False\n",
    "\n",
    "for epoch in range(3):\n",
    "    jump_to_new_epoch = False\n",
    "    gen1 = my_gen()\n",
    "\n",
    "    print(f\"epoch: {epoch}\")\n",
    "    \n",
    "    for batch_idx in range(5):\n",
    "        print(f\"batch_idx: {batch_idx}\")\n",
    "        \n",
    "        for img in range(3):\n",
    "            try: \n",
    "                print(gen1.__next__())\n",
    "            except StopIteration as e:\n",
    "                print(\"------------------------Am Ende angelangt\")\n",
    "                jump_to_new_epoch = True\n",
    "\n",
    "            if jump_to_new_epoch == True:\n",
    "                break\n",
    "\n",
    "        if jump_to_new_epoch == True:\n",
    "            break\n"
   ]
  },
  {
   "cell_type": "code",
   "execution_count": 17,
   "metadata": {},
   "outputs": [
    {
     "name": "stdout",
     "output_type": "stream",
     "text": [
      "ja\n"
     ]
    }
   ],
   "source": [
    "if 5 < 8:\n",
    "    print(\"ja\")"
   ]
  },
  {
   "cell_type": "code",
   "execution_count": null,
   "metadata": {},
   "outputs": [],
   "source": []
  }
 ],
 "metadata": {
  "interpreter": {
   "hash": "bbe6f1f0ffae94815f8b68c5970304948992b116503ec65631f55d524065bfaa"
  },
  "kernelspec": {
   "display_name": "Python 3.9.7 ('tf_training')",
   "language": "python",
   "name": "python3"
  },
  "language_info": {
   "codemirror_mode": {
    "name": "ipython",
    "version": 3
   },
   "file_extension": ".py",
   "mimetype": "text/x-python",
   "name": "python",
   "nbconvert_exporter": "python",
   "pygments_lexer": "ipython3",
   "version": "3.9.7"
  },
  "orig_nbformat": 4
 },
 "nbformat": 4,
 "nbformat_minor": 2
}
